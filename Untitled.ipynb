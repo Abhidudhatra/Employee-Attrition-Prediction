{
 "cells": [
  {
   "cell_type": "code",
   "execution_count": 3,
   "id": "af0a6e2d-98fd-4626-8dba-7f8ebcd0315c",
   "metadata": {},
   "outputs": [
    {
     "data": {
      "text/html": [
       "        <script type=\"text/javascript\">\n",
       "        window.PlotlyConfig = {MathJaxConfig: 'local'};\n",
       "        if (window.MathJax && window.MathJax.Hub && window.MathJax.Hub.Config) {window.MathJax.Hub.Config({SVG: {font: \"STIX-Web\"}});}\n",
       "        </script>\n",
       "        <script type=\"module\">import \"https://cdn.plot.ly/plotly-3.0.1.min\"</script>\n",
       "        "
      ]
     },
     "metadata": {},
     "output_type": "display_data"
    }
   ],
   "source": [
    "import numpy as np # linear algebra\n",
    "import pandas as pd # data processing\n",
    "import seaborn as sns\n",
    "import matplotlib.pyplot as plt\n",
    "%matplotlib inline\n",
    "\n",
    "# Import statements required for Plotly \n",
    "import plotly.offline as py\n",
    "py.init_notebook_mode(connected=True)\n",
    "import plotly.graph_objs as go\n",
    "import plotly.tools as tls\n",
    "\n",
    "\n",
    "from sklearn.ensemble import RandomForestClassifier, GradientBoostingClassifier\n",
    "from sklearn.linear_model import LogisticRegression\n",
    "from sklearn.metrics import (accuracy_score, log_loss, classification_report)\n",
    "from imblearn.over_sampling import SMOTE\n",
    "import xgboost"
   ]
  },
  {
   "cell_type": "code",
   "execution_count": 4,
   "id": "007334ee-a248-4ffd-b653-68eb6fa506ac",
   "metadata": {},
   "outputs": [],
   "source": [
    "attrition = pd.read_csv(r\"C:\\Users\\abhid\\Downloads\\archive\\WA_Fn-UseC_-HR-Employee-Attrition.csv\")"
   ]
  },
  {
   "cell_type": "code",
   "execution_count": 5,
   "id": "3e03b488-62bf-4ae2-a332-3e3ec5b01e06",
   "metadata": {},
   "outputs": [
    {
     "data": {
      "text/html": [
       "<div>\n",
       "<style scoped>\n",
       "    .dataframe tbody tr th:only-of-type {\n",
       "        vertical-align: middle;\n",
       "    }\n",
       "\n",
       "    .dataframe tbody tr th {\n",
       "        vertical-align: top;\n",
       "    }\n",
       "\n",
       "    .dataframe thead th {\n",
       "        text-align: right;\n",
       "    }\n",
       "</style>\n",
       "<table border=\"1\" class=\"dataframe\">\n",
       "  <thead>\n",
       "    <tr style=\"text-align: right;\">\n",
       "      <th></th>\n",
       "      <th>Age</th>\n",
       "      <th>Attrition</th>\n",
       "      <th>BusinessTravel</th>\n",
       "      <th>DailyRate</th>\n",
       "      <th>Department</th>\n",
       "      <th>DistanceFromHome</th>\n",
       "      <th>Education</th>\n",
       "      <th>EducationField</th>\n",
       "      <th>EmployeeCount</th>\n",
       "      <th>EmployeeNumber</th>\n",
       "      <th>...</th>\n",
       "      <th>RelationshipSatisfaction</th>\n",
       "      <th>StandardHours</th>\n",
       "      <th>StockOptionLevel</th>\n",
       "      <th>TotalWorkingYears</th>\n",
       "      <th>TrainingTimesLastYear</th>\n",
       "      <th>WorkLifeBalance</th>\n",
       "      <th>YearsAtCompany</th>\n",
       "      <th>YearsInCurrentRole</th>\n",
       "      <th>YearsSinceLastPromotion</th>\n",
       "      <th>YearsWithCurrManager</th>\n",
       "    </tr>\n",
       "  </thead>\n",
       "  <tbody>\n",
       "    <tr>\n",
       "      <th>0</th>\n",
       "      <td>41</td>\n",
       "      <td>Yes</td>\n",
       "      <td>Travel_Rarely</td>\n",
       "      <td>1102</td>\n",
       "      <td>Sales</td>\n",
       "      <td>1</td>\n",
       "      <td>2</td>\n",
       "      <td>Life Sciences</td>\n",
       "      <td>1</td>\n",
       "      <td>1</td>\n",
       "      <td>...</td>\n",
       "      <td>1</td>\n",
       "      <td>80</td>\n",
       "      <td>0</td>\n",
       "      <td>8</td>\n",
       "      <td>0</td>\n",
       "      <td>1</td>\n",
       "      <td>6</td>\n",
       "      <td>4</td>\n",
       "      <td>0</td>\n",
       "      <td>5</td>\n",
       "    </tr>\n",
       "    <tr>\n",
       "      <th>1</th>\n",
       "      <td>49</td>\n",
       "      <td>No</td>\n",
       "      <td>Travel_Frequently</td>\n",
       "      <td>279</td>\n",
       "      <td>Research &amp; Development</td>\n",
       "      <td>8</td>\n",
       "      <td>1</td>\n",
       "      <td>Life Sciences</td>\n",
       "      <td>1</td>\n",
       "      <td>2</td>\n",
       "      <td>...</td>\n",
       "      <td>4</td>\n",
       "      <td>80</td>\n",
       "      <td>1</td>\n",
       "      <td>10</td>\n",
       "      <td>3</td>\n",
       "      <td>3</td>\n",
       "      <td>10</td>\n",
       "      <td>7</td>\n",
       "      <td>1</td>\n",
       "      <td>7</td>\n",
       "    </tr>\n",
       "    <tr>\n",
       "      <th>2</th>\n",
       "      <td>37</td>\n",
       "      <td>Yes</td>\n",
       "      <td>Travel_Rarely</td>\n",
       "      <td>1373</td>\n",
       "      <td>Research &amp; Development</td>\n",
       "      <td>2</td>\n",
       "      <td>2</td>\n",
       "      <td>Other</td>\n",
       "      <td>1</td>\n",
       "      <td>4</td>\n",
       "      <td>...</td>\n",
       "      <td>2</td>\n",
       "      <td>80</td>\n",
       "      <td>0</td>\n",
       "      <td>7</td>\n",
       "      <td>3</td>\n",
       "      <td>3</td>\n",
       "      <td>0</td>\n",
       "      <td>0</td>\n",
       "      <td>0</td>\n",
       "      <td>0</td>\n",
       "    </tr>\n",
       "    <tr>\n",
       "      <th>3</th>\n",
       "      <td>33</td>\n",
       "      <td>No</td>\n",
       "      <td>Travel_Frequently</td>\n",
       "      <td>1392</td>\n",
       "      <td>Research &amp; Development</td>\n",
       "      <td>3</td>\n",
       "      <td>4</td>\n",
       "      <td>Life Sciences</td>\n",
       "      <td>1</td>\n",
       "      <td>5</td>\n",
       "      <td>...</td>\n",
       "      <td>3</td>\n",
       "      <td>80</td>\n",
       "      <td>0</td>\n",
       "      <td>8</td>\n",
       "      <td>3</td>\n",
       "      <td>3</td>\n",
       "      <td>8</td>\n",
       "      <td>7</td>\n",
       "      <td>3</td>\n",
       "      <td>0</td>\n",
       "    </tr>\n",
       "    <tr>\n",
       "      <th>4</th>\n",
       "      <td>27</td>\n",
       "      <td>No</td>\n",
       "      <td>Travel_Rarely</td>\n",
       "      <td>591</td>\n",
       "      <td>Research &amp; Development</td>\n",
       "      <td>2</td>\n",
       "      <td>1</td>\n",
       "      <td>Medical</td>\n",
       "      <td>1</td>\n",
       "      <td>7</td>\n",
       "      <td>...</td>\n",
       "      <td>4</td>\n",
       "      <td>80</td>\n",
       "      <td>1</td>\n",
       "      <td>6</td>\n",
       "      <td>3</td>\n",
       "      <td>3</td>\n",
       "      <td>2</td>\n",
       "      <td>2</td>\n",
       "      <td>2</td>\n",
       "      <td>2</td>\n",
       "    </tr>\n",
       "  </tbody>\n",
       "</table>\n",
       "<p>5 rows × 35 columns</p>\n",
       "</div>"
      ],
      "text/plain": [
       "   Age Attrition     BusinessTravel  DailyRate              Department  \\\n",
       "0   41       Yes      Travel_Rarely       1102                   Sales   \n",
       "1   49        No  Travel_Frequently        279  Research & Development   \n",
       "2   37       Yes      Travel_Rarely       1373  Research & Development   \n",
       "3   33        No  Travel_Frequently       1392  Research & Development   \n",
       "4   27        No      Travel_Rarely        591  Research & Development   \n",
       "\n",
       "   DistanceFromHome  Education EducationField  EmployeeCount  EmployeeNumber  \\\n",
       "0                 1          2  Life Sciences              1               1   \n",
       "1                 8          1  Life Sciences              1               2   \n",
       "2                 2          2          Other              1               4   \n",
       "3                 3          4  Life Sciences              1               5   \n",
       "4                 2          1        Medical              1               7   \n",
       "\n",
       "   ...  RelationshipSatisfaction StandardHours  StockOptionLevel  \\\n",
       "0  ...                         1            80                 0   \n",
       "1  ...                         4            80                 1   \n",
       "2  ...                         2            80                 0   \n",
       "3  ...                         3            80                 0   \n",
       "4  ...                         4            80                 1   \n",
       "\n",
       "   TotalWorkingYears  TrainingTimesLastYear WorkLifeBalance  YearsAtCompany  \\\n",
       "0                  8                      0               1               6   \n",
       "1                 10                      3               3              10   \n",
       "2                  7                      3               3               0   \n",
       "3                  8                      3               3               8   \n",
       "4                  6                      3               3               2   \n",
       "\n",
       "  YearsInCurrentRole  YearsSinceLastPromotion  YearsWithCurrManager  \n",
       "0                  4                        0                     5  \n",
       "1                  7                        1                     7  \n",
       "2                  0                        0                     0  \n",
       "3                  7                        3                     0  \n",
       "4                  2                        2                     2  \n",
       "\n",
       "[5 rows x 35 columns]"
      ]
     },
     "execution_count": 5,
     "metadata": {},
     "output_type": "execute_result"
    }
   ],
   "source": [
    "attrition.head(5)"
   ]
  },
  {
   "cell_type": "code",
   "execution_count": 9,
   "id": "c4cb0fec-b46f-45c1-bfc3-63c81a14b4d4",
   "metadata": {},
   "outputs": [
    {
     "data": {
      "image/png": "[encoded data removed]",
      "text/plain": [
       "<Figure size 1200x1000 with 9 Axes>"
      ]
     },
     "metadata": {},
     "output_type": "display_data"
    }
   ],
   "source": [
    "import numpy as np\n",
    "import seaborn as sns\n",
    "import matplotlib.pyplot as plt\n",
    "\n",
    "# Create the subplots\n",
    "f, axes = plt.subplots(3, 3, figsize=(12, 10), sharex=False, sharey=False)\n",
    "\n",
    "# Plot 1\n",
    "cmap = sns.cubehelix_palette(start=0.0, light=1, as_cmap=True)\n",
    "sns.kdeplot(x=attrition['Age'], y=attrition['TotalWorkingYears'], cmap=cmap, fill=True, cut=5, ax=axes[0, 0])\n",
    "axes[0, 0].set(title='Age vs Total Working Years')\n",
    "\n",
    "# Plot 2\n",
    "cmap = sns.cubehelix_palette(start=0.33, light=1, as_cmap=True)\n",
    "sns.kdeplot(x=attrition['Age'], y=attrition['DailyRate'], cmap=cmap, fill=True, cut=5, ax=axes[0, 1])\n",
    "axes[0, 1].set(title='Age vs Daily Rate')\n",
    "\n",
    "# Plot 3\n",
    "cmap = sns.cubehelix_palette(start=0.66, light=1, as_cmap=True)\n",
    "sns.kdeplot(x=attrition['YearsInCurrentRole'], y=attrition['Age'], cmap=cmap, fill=True, cut=5, ax=axes[0, 2])\n",
    "axes[0, 2].set(title='Years in Role vs Age')\n",
    "\n",
    "# Plot 4\n",
    "cmap = sns.cubehelix_palette(start=1.0, light=1, as_cmap=True)\n",
    "sns.kdeplot(x=attrition['DailyRate'], y=attrition['DistanceFromHome'], cmap=cmap, fill=True, cut=5, ax=axes[1, 0])\n",
    "axes[1, 0].set(title='Daily Rate vs Distance from Home')\n",
    "\n",
    "# Plot 5\n",
    "cmap = sns.cubehelix_palette(start=1.33, light=1, as_cmap=True)\n",
    "sns.kdeplot(x=attrition['DailyRate'], y=attrition['JobSatisfaction'], cmap=cmap, fill=True, cut=5, ax=axes[1, 1])\n",
    "axes[1, 1].set(title='Daily Rate vs Job Satisfaction')\n",
    "\n",
    "# Plot 6\n",
    "cmap = sns.cubehelix_palette(start=1.66, light=1, as_cmap=True)\n",
    "sns.kdeplot(x=attrition['YearsAtCompany'], y=attrition['JobSatisfaction'], cmap=cmap, fill=True, cut=5, ax=axes[1, 2])\n",
    "axes[1, 2].set(title='Years at Company vs Job Satisfaction')\n",
    "\n",
    "# Plot 7\n",
    "cmap = sns.cubehelix_palette(start=2.0, light=1, as_cmap=True)\n",
    "sns.kdeplot(x=attrition['YearsAtCompany'], y=attrition['DailyRate'], cmap=cmap, fill=True, cut=5, ax=axes[2, 0])\n",
    "axes[2, 0].set(title='Years at Company vs Daily Rate')\n",
    "\n",
    "# Plot 8\n",
    "cmap = sns.cubehelix_palette(start=2.33, light=1, as_cmap=True)\n",
    "sns.kdeplot(x=attrition['RelationshipSatisfaction'], y=attrition['YearsWithCurrManager'], cmap=cmap, fill=True, cut=5, ax=axes[2, 1])\n",
    "axes[2, 1].set(title='Relationship Satisfaction vs Years with Manager')\n",
    "\n",
    "# Plot 9\n",
    "cmap = sns.cubehelix_palette(start=2.66, light=1, as_cmap=True)\n",
    "sns.kdeplot(x=attrition['WorkLifeBalance'], y=attrition['JobSatisfaction'], cmap=cmap, fill=True, cut=5, ax=axes[2, 2])\n",
    "axes[2, 2].set(title='Work-Life Balance vs Job Satisfaction')\n",
    "\n",
    "# Final layout\n",
    "f.tight_layout()\n"
   ]
  },
  {
   "cell_type": "code",
   "execution_count": 10,
   "id": "3e50ea53-9fea-4e37-88d7-7cf580c4507e",
   "metadata": {},
   "outputs": [
    {
     "data": {
      "text/html": [
       "        <script type=\"text/javascript\">\n",
       "        window.PlotlyConfig = {MathJaxConfig: 'local'};\n",
       "        if (window.MathJax && window.MathJax.Hub && window.MathJax.Hub.Config) {window.MathJax.Hub.Config({SVG: {font: \"STIX-Web\"}});}\n",
       "        </script>\n",
       "        <script type=\"module\">import \"https://cdn.plot.ly/plotly-3.0.1.min\"</script>\n",
       "        "
      ]
     },
     "metadata": {},
     "output_type": "display_data"
    },
    {
     "data": {
      "application/vnd.plotly.v1+json": {
       "config": {
        "linkText": "Export to plot.ly",
        "plotlyServerURL": "https://plot.ly",
        "showLink": false
       },
       "data": [
        {
         "colorscale": [
          [
           0,
           "#440154"
          ],
          [
           0.1111111111111111,
           "#482878"
          ],
          [
           0.2222222222222222,
           "#3e4989"
          ],
          [
           0.3333333333333333,
           "#31688e"
          ],
          [
           0.4444444444444444,
           "#26828e"
          ],
          [
           0.5555555555555556,
           "#1f9e89"
          ],
          [
           0.6666666666666666,
           "#35b779"
          ],
          [
           0.7777777777777778,
           "#6ece58"
          ],
          [
           0.8888888888888888,
           "#b5de2b"
          ],
          [
           1,
           "#fde725"
          ]
         ],
         "opacity": 1,
         "reversescale": false,
         "type": "heatmap",
         "x": [
          "Age",
          "DailyRate",
          "DistanceFromHome",
          "Education",
          "EmployeeNumber",
          "EnvironmentSatisfaction",
          "HourlyRate",
          "JobInvolvement",
          "JobLevel",
          "JobSatisfaction",
          "MonthlyIncome",
          "MonthlyRate",
          "NumCompaniesWorked",
          "PercentSalaryHike",
          "PerformanceRating",
          "RelationshipSatisfaction",
          "StockOptionLevel",
          "TotalWorkingYears",
          "TrainingTimesLastYear",
          "WorkLifeBalance",
          "YearsAtCompany",
          "YearsInCurrentRole",
          "YearsSinceLastPromotion",
          "YearsWithCurrManager"
         ],
         "y": [
          "Age",
          "DailyRate",
          "DistanceFromHome",
          "Education",
          "EmployeeNumber",
          "EnvironmentSatisfaction",
          "HourlyRate",
          "JobInvolvement",
          "JobLevel",
          "JobSatisfaction",
          "MonthlyIncome",
          "MonthlyRate",
          "NumCompaniesWorked",
          "PercentSalaryHike",
          "PerformanceRating",
          "RelationshipSatisfaction",
          "StockOptionLevel",
          "TotalWorkingYears",
          "TrainingTimesLastYear",
          "WorkLifeBalance",
          "YearsAtCompany",
          "YearsInCurrentRole",
          "YearsSinceLastPromotion",
          "YearsWithCurrManager"
         ],
         "z": {
          "_inputArray": [
           {
            "0": 1,
            "1": 0.010660942645538433,
            "10": 0.4978545669265801,
            "11": 0.02805116713392273,
            "12": 0.2996347579836926,
            "13": 0.0036335849148618872,
            "14": 0.0019038955127587383,
            "15": 0.053534719671229365,
            "16": 0.037509712424777526,
            "17": 0.6803805357911985,
            "18": -0.01962081894269849,
            "19": -0.021490027957098715,
            "2": -0.00168612014808715,
            "20": 0.3113087697450989,
            "21": 0.21290105556556793,
            "22": 0.2165133678516537,
            "23": 0.20208860237515264,
            "3": 0.2080337310142398,
            "4": -0.0101454670768599,
            "5": 0.010146427861437268,
            "6": 0.024286542550967197,
            "7": 0.029819958629590578,
            "8": 0.5096042284323842,
            "9": -0.00489187714868713
           },
           {
            "0": 0.010660942645538433,
            "1": 1,
            "10": 0.007707058872006053,
            "11": -0.03218160152258194,
            "12": 0.0381534342794098,
            "13": 0.022703677496334968,
            "14": 0.00047329632718855213,
            "15": 0.007846030957248387,
            "16": 0.04214279637720667,
            "17": 0.014514738706320902,
            "18": 0.002452542712083144,
            "19": -0.03784805100578179,
            "2": -0.00498533735255263,
            "20": -0.03405476756854742,
            "21": 0.009932014960094215,
            "22": -0.033228984787772024,
            "23": -0.026363178228837676,
            "3": -0.01680643320915763,
            "4": -0.05099043365447757,
            "5": 0.018354854300385557,
            "6": 0.023381421528320526,
            "7": 0.04613487399781112,
            "8": 0.0029663348551116197,
            "9": 0.030571007837143983
           },
           {
            "0": -0.00168612014808715,
            "1": -0.00498533735255263,
            "10": -0.017014444745275862,
            "11": 0.02747286354888413,
            "12": -0.029250804197293017,
            "13": 0.040235377459193075,
            "14": 0.027109618481976,
            "15": 0.006557474646578779,
            "16": 0.04487199885318152,
            "17": 0.004628425863783857,
            "18": -0.036942234339915794,
            "19": -0.02655600410656903,
            "2": 1,
            "20": 0.009507719899011289,
            "21": 0.018844999108945746,
            "22": 0.010028835943115395,
            "23": 0.014406048430630005,
            "3": 0.021041825624123392,
            "4": 0.032916407199243845,
            "5": -0.016075326996493524,
            "6": 0.03113058561176572,
            "7": 0.008783279886444255,
            "8": 0.005302730554496216,
            "9": -0.0036688391677205793
           },
           {
            "0": 0.2080337310142398,
            "1": -0.01680643320915763,
            "10": 0.09496067704188883,
            "11": -0.026084197160047493,
            "12": 0.12631656017668452,
            "13": -0.011110940860654192,
            "14": -0.024538791164833557,
            "15": -0.009118376696381533,
            "16": 0.018422220204016834,
            "17": 0.1482796965388733,
            "18": -0.025100241137933348,
            "19": 0.00981918930978191,
            "2": 0.021041825624123392,
            "20": 0.06911369603133866,
            "21": 0.06023555412069576,
            "22": 0.054254333591320224,
            "23": 0.06906537825528458,
            "3": 1,
            "4": 0.042070093029327675,
            "5": -0.027128313256511792,
            "6": 0.01677482888096076,
            "7": 0.042437634318607954,
            "8": 0.10158888624850043,
            "9": -0.011296116736574002
           },
           {
            "0": -0.0101454670768599,
            "1": -0.05099043365447757,
            "10": -0.01482851587378469,
            "11": 0.012648229168461627,
            "12": -0.0012510320398018396,
            "13": -0.012943995546151714,
            "14": -0.02035882514695762,
            "15": -0.06986141146763755,
            "16": 0.06222669251362305,
            "17": -0.014365198461301121,
            "18": 0.023603169591926734,
            "19": 0.010308641437965905,
            "2": 0.032916407199243845,
            "20": -0.011240463708114047,
            "21": -0.008416311998425954,
            "22": -0.009019064206633414,
            "23": -0.009196645292770315,
            "3": 0.042070093029327675,
            "4": 1,
            "5": 0.017620802485586586,
            "6": 0.035179212418708077,
            "7": -0.0068879229870375,
            "8": -0.018519193974227376,
            "9": -0.04624673493941775
           },
           {
            "0": 0.010146427861437268,
            "1": 0.018354854300385557,
            "10": -0.0062590877547801654,
            "11": 0.037599622865715374,
            "12": 0.012594323218943297,
            "13": -0.031701195241792046,
            "14": -0.02954795229768088,
            "15": 0.007665383541074558,
            "16": 0.0034321577550574162,
            "17": -0.002693070388534207,
            "18": -0.01935930834713247,
            "19": 0.027627295460115428,
            "2": -0.016075326996493524,
            "20": 0.0014575491911164862,
            "21": 0.01800746014287853,
            "22": 0.016193605568453326,
            "23": -0.004998722628107581,
            "3": -0.027128313256511792,
            "4": 0.017620802485586586,
            "5": 1,
            "6": -0.04985695620300066,
            "7": -0.008277598171759099,
            "8": 0.001211699448913883,
            "9": -0.006784352599075007
           },
           {
            "0": 0.024286542550967197,
            "1": 0.023381421528320526,
            "10": -0.015794304380892982,
            "11": -0.015296749550649661,
            "12": 0.02215688339019683,
            "13": -0.00906198625374016,
            "14": -0.002171697427810162,
            "15": 0.0013304527859508606,
            "16": 0.050263399065119486,
            "17": -0.002333681823322269,
            "18": -0.008547685209270649,
            "19": -0.004607233750264554,
            "2": 0.03113058561176572,
            "20": -0.019581616209121275,
            "21": -0.02410622020878498,
            "22": -0.02671558606433524,
            "23": -0.020123200184066006,
            "3": 0.01677482888096076,
            "4": 0.035179212418708077,
            "5": -0.04985695620300066,
            "6": 1,
            "7": 0.04286064097152976,
            "8": -0.027853486405547218,
            "9": -0.07133462437378787
           },
           {
            "0": 0.029819958629590578,
            "1": 0.04613487399781112,
            "10": -0.015271490778732832,
            "11": -0.016322079053317298,
            "12": 0.015012413243110999,
            "13": -0.017204572244480378,
            "14": -0.029071333439069817,
            "15": 0.034296820611197744,
            "16": 0.021522640378023858,
            "17": -0.0055331820574074635,
            "18": -0.015337825759429116,
            "19": -0.014616593162761865,
            "2": 0.008783279886444255,
            "20": -0.021355426979629725,
            "21": 0.00871696349761169,
            "22": -0.024184292365179074,
            "23": 0.025975807949088936,
            "3": 0.042437634318607954,
            "4": -0.0068879229870375,
            "5": -0.008277598171759099,
            "6": 0.04286064097152976,
            "7": 1,
            "8": -0.012629882671190631,
            "9": -0.021475910335306454
           },
           {
            "0": 0.5096042284323842,
            "1": 0.0029663348551116197,
            "10": 0.9502999134798473,
            "11": 0.03956295104568388,
            "12": 0.1425011238104873,
            "13": -0.03473049227941817,
            "14": -0.021222082108857152,
            "15": 0.021641510532591595,
            "16": 0.013983910528615457,
            "17": 0.7822078045362748,
            "18": -0.018190550193549416,
            "19": 0.037817745596666404,
            "2": 0.005302730554496216,
            "20": 0.5347386873756308,
            "21": 0.3894467328766705,
            "22": 0.3538853469641021,
            "23": 0.37528060776572636,
            "3": 0.10158888624850043,
            "4": -0.018519193974227376,
            "5": 0.001211699448913883,
            "6": -0.027853486405547218,
            "7": -0.012629882671190631,
            "8": 1,
            "9": -0.0019437080267456581
           },
           {
            "0": -0.00489187714868713,
            "1": 0.030571007837143983,
            "10": -0.00715674235591272,
            "11": 0.0006439169427037768,
            "12": -0.05569942601274605,
            "13": 0.020002039364081927,
            "14": 0.0022971970637806114,
            "15": -0.012453593161926702,
            "16": 0.010690226120755746,
            "17": -0.020185072685016788,
            "18": -0.005779334958609115,
            "19": -0.01945871021297396,
            "2": -0.0036688391677205793,
            "20": -0.0038026279482880534,
            "21": -0.002304785229830135,
            "22": -0.01821356781019079,
            "23": -0.027656213884289974,
            "3": -0.011296116736574002,
            "4": -0.04624673493941775,
            "5": -0.006784352599075007,
            "6": -0.07133462437378787,
            "7": -0.021475910335306454,
            "8": -0.0019437080267456581,
            "9": 1
           },
           {
            "0": 0.4978545669265801,
            "1": 0.007707058872006053,
            "10": 1,
            "11": 0.034813626134121846,
            "12": 0.14951521598969805,
            "13": -0.02726858644031447,
            "14": -0.01712013823739077,
            "15": 0.025873436137557656,
            "16": 0.005407676696812238,
            "17": 0.7728932462543574,
            "18": -0.02173627682389331,
            "19": 0.030683081556940557,
            "2": -0.017014444745275862,
            "20": 0.5142848257331957,
            "21": 0.3638176669287084,
            "22": 0.3449776381654271,
            "23": 0.34407888325872127,
            "3": 0.09496067704188883,
            "4": -0.01482851587378469,
            "5": -0.0062590877547801654,
            "6": -0.015794304380892982,
            "7": -0.015271490778732832,
            "8": 0.9502999134798473,
            "9": -0.00715674235591272
           },
           {
            "0": 0.02805116713392273,
            "1": -0.03218160152258194,
            "10": 0.034813626134121846,
            "11": 1,
            "12": 0.017521353415571563,
            "13": -0.006429345946711407,
            "14": -0.00981142848936084,
            "15": -0.004085329337519686,
            "16": -0.034322830206660805,
            "17": 0.026442471176015385,
            "18": 0.0014668806322858448,
            "19": 0.007963157516977033,
            "2": 0.02747286354888413,
            "20": -0.023655106706177275,
            "21": -0.012814874370471728,
            "22": 0.001566799514676175,
            "23": -0.036745905336769386,
            "3": -0.026084197160047493,
            "4": 0.012648229168461627,
            "5": 0.037599622865715374,
            "6": -0.015296749550649661,
            "7": -0.016322079053317298,
            "8": 0.03956295104568388,
            "9": 0.0006439169427037768
           },
           {
            "0": 0.2996347579836926,
            "1": 0.0381534342794098,
            "10": 0.14951521598969805,
            "11": 0.017521353415571563,
            "12": 1,
            "13": -0.010238309359925521,
            "14": -0.014094872753535133,
            "15": 0.05273304856488617,
            "16": 0.030075475096897484,
            "17": 0.23763858978479552,
            "18": -0.06605407172783646,
            "19": -0.008365684790058631,
            "2": -0.029250804197293017,
            "20": -0.11842134024259104,
            "21": -0.0907539337008081,
            "22": -0.03681389238350808,
            "23": -0.11031915543773241,
            "3": 0.12631656017668452,
            "4": -0.0012510320398018396,
            "5": 0.012594323218943297,
            "6": 0.02215688339019683,
            "7": 0.015012413243110999,
            "8": 0.1425011238104873,
            "9": -0.05569942601274605
           },
           {
            "0": 0.0036335849148618872,
            "1": 0.022703677496334968,
            "10": -0.02726858644031447,
            "11": -0.006429345946711407,
            "12": -0.010238309359925521,
            "13": 1,
            "14": 0.7735499964012664,
            "15": -0.04049008105707734,
            "16": 0.0075277478205202026,
            "17": -0.020608487617691264,
            "18": -0.005221012351721004,
            "19": -0.0032796360093680704,
            "2": 0.040235377459193075,
            "20": -0.03599126243195373,
            "21": -0.0015200265442777774,
            "22": -0.022154312598866126,
            "23": -0.01198524847236139,
            "3": -0.011110940860654192,
            "4": -0.012943995546151714,
            "5": -0.031701195241792046,
            "6": -0.00906198625374016,
            "7": -0.017204572244480378,
            "8": -0.03473049227941817,
            "9": 0.020002039364081927
           },
           {
            "0": 0.0019038955127587383,
            "1": 0.00047329632718855213,
            "10": -0.01712013823739077,
            "11": -0.00981142848936084,
            "12": -0.014094872753535133,
            "13": 0.7735499964012664,
            "14": 1,
            "15": -0.031351455442454886,
            "16": 0.003506471614809783,
            "17": 0.0067436679059531685,
            "18": -0.015578881739137565,
            "19": 0.002572361317682639,
            "2": 0.027109618481976,
            "20": 0.0034351261159238713,
            "21": 0.034986260407194936,
            "22": 0.017896066144799785,
            "23": 0.022827168908479807,
            "3": -0.024538791164833557,
            "4": -0.02035882514695762,
            "5": -0.02954795229768088,
            "6": -0.002171697427810162,
            "7": -0.029071333439069817,
            "8": -0.021222082108857152,
            "9": 0.0022971970637806114
           },
           {
            "0": 0.053534719671229365,
            "1": 0.007846030957248387,
            "10": 0.025873436137557656,
            "11": -0.004085329337519686,
            "12": 0.05273304856488617,
            "13": -0.04049008105707734,
            "14": -0.031351455442454886,
            "15": 1,
            "16": -0.045952490716561906,
            "17": 0.02405429182134145,
            "18": 0.002496526392116996,
            "19": 0.01960440570396871,
            "2": 0.006557474646578779,
            "20": 0.019366786877455463,
            "21": -0.015122914881937748,
            "22": 0.033492502069354176,
            "23": -0.0008674968446256695,
            "3": -0.009118376696381533,
            "4": -0.06986141146763755,
            "5": 0.007665383541074558,
            "6": 0.0013304527859508606,
            "7": 0.034296820611197744,
            "8": 0.021641510532591595,
            "9": -0.012453593161926702
           },
           {
            "0": 0.037509712424777526,
            "1": 0.04214279637720667,
            "10": 0.005407676696812238,
            "11": -0.034322830206660805,
            "12": 0.030075475096897484,
            "13": 0.0075277478205202026,
            "14": 0.003506471614809783,
            "15": -0.045952490716561906,
            "16": 1,
            "17": 0.010135969318901629,
            "18": 0.011274069611249207,
            "19": 0.004128730002871338,
            "2": 0.04487199885318152,
            "20": 0.015058008028094509,
            "21": 0.050817872753931646,
            "22": 0.01435218486435548,
            "23": 0.02469822656303012,
            "3": 0.018422220204016834,
            "4": 0.06222669251362305,
            "5": 0.0034321577550574162,
            "6": 0.050263399065119486,
            "7": 0.021522640378023858,
            "8": 0.013983910528615457,
            "9": 0.010690226120755746
           },
           {
            "0": 0.6803805357911985,
            "1": 0.014514738706320902,
            "10": 0.7728932462543574,
            "11": 0.026442471176015385,
            "12": 0.23763858978479552,
            "13": -0.020608487617691264,
            "14": 0.0067436679059531685,
            "15": 0.02405429182134145,
            "16": 0.010135969318901629,
            "17": 1,
            "18": -0.03566157127961907,
            "19": 0.0010076456218964924,
            "2": 0.004628425863783857,
            "20": 0.6281331552682468,
            "21": 0.46036463801180993,
            "22": 0.4048577585025587,
            "23": 0.45918839708314385,
            "3": 0.1482796965388733,
            "4": -0.014365198461301121,
            "5": -0.002693070388534207,
            "6": -0.002333681823322269,
            "7": -0.0055331820574074635,
            "8": 0.7822078045362748,
            "9": -0.020185072685016788
           },
           {
            "0": -0.01962081894269849,
            "1": 0.002452542712083144,
            "10": -0.02173627682389331,
            "11": 0.0014668806322858448,
            "12": -0.06605407172783646,
            "13": -0.005221012351721004,
            "14": -0.015578881739137565,
            "15": 0.002496526392116996,
            "16": 0.011274069611249207,
            "17": -0.03566157127961907,
            "18": 1,
            "19": 0.02807220660362872,
            "2": -0.036942234339915794,
            "20": 0.003568665678427449,
            "21": -0.0057375043379568925,
            "22": -0.0020665360380059438,
            "23": -0.004095526021226202,
            "3": -0.025100241137933348,
            "4": 0.023603169591926734,
            "5": -0.01935930834713247,
            "6": -0.008547685209270649,
            "7": -0.015337825759429116,
            "8": -0.018190550193549416,
            "9": -0.005779334958609115
           },
           {
            "0": -0.021490027957098715,
            "1": -0.03784805100578179,
            "10": 0.030683081556940557,
            "11": 0.007963157516977033,
            "12": -0.008365684790058631,
            "13": -0.0032796360093680704,
            "14": 0.002572361317682639,
            "15": 0.01960440570396871,
            "16": 0.004128730002871338,
            "17": 0.0010076456218964924,
            "18": 0.02807220660362872,
            "19": 1,
            "2": -0.02655600410656903,
            "20": 0.012089185354581315,
            "21": 0.04985649792220436,
            "22": 0.008941249141234323,
            "23": 0.002759440242340428,
            "3": 0.00981918930978191,
            "4": 0.010308641437965905,
            "5": 0.027627295460115428,
            "6": -0.004607233750264554,
            "7": -0.014616593162761865,
            "8": 0.037817745596666404,
            "9": -0.01945871021297396
           },
           {
            "0": 0.3113087697450989,
            "1": -0.03405476756854742,
            "10": 0.5142848257331957,
            "11": -0.023655106706177275,
            "12": -0.11842134024259104,
            "13": -0.03599126243195373,
            "14": 0.0034351261159238713,
            "15": 0.019366786877455463,
            "16": 0.015058008028094509,
            "17": 0.6281331552682468,
            "18": 0.003568665678427449,
            "19": 0.012089185354581315,
            "2": 0.009507719899011289,
            "20": 1,
            "21": 0.7587537366134619,
            "22": 0.6184088652176047,
            "23": 0.7692124251007031,
            "3": 0.06911369603133866,
            "4": -0.011240463708114047,
            "5": 0.0014575491911164862,
            "6": -0.019581616209121275,
            "7": -0.021355426979629725,
            "8": 0.5347386873756308,
            "9": -0.0038026279482880534
           },
           {
            "0": 0.21290105556556793,
            "1": 0.009932014960094215,
            "10": 0.3638176669287084,
            "11": -0.012814874370471728,
            "12": -0.0907539337008081,
            "13": -0.0015200265442777774,
            "14": 0.034986260407194936,
            "15": -0.015122914881937748,
            "16": 0.050817872753931646,
            "17": 0.46036463801180993,
            "18": -0.0057375043379568925,
            "19": 0.04985649792220436,
            "2": 0.018844999108945746,
            "20": 0.7587537366134619,
            "21": 1,
            "22": 0.5480562476995187,
            "23": 0.7143647616385931,
            "3": 0.06023555412069576,
            "4": -0.008416311998425954,
            "5": 0.01800746014287853,
            "6": -0.02410622020878498,
            "7": 0.00871696349761169,
            "8": 0.3894467328766705,
            "9": -0.002304785229830135
           },
           {
            "0": 0.2165133678516537,
            "1": -0.033228984787772024,
            "10": 0.3449776381654271,
            "11": 0.001566799514676175,
            "12": -0.03681389238350808,
            "13": -0.022154312598866126,
            "14": 0.017896066144799785,
            "15": 0.033492502069354176,
            "16": 0.01435218486435548,
            "17": 0.4048577585025587,
            "18": -0.0020665360380059438,
            "19": 0.008941249141234323,
            "2": 0.010028835943115395,
            "20": 0.6184088652176047,
            "21": 0.5480562476995187,
            "22": 1,
            "23": 0.5102236357788085,
            "3": 0.054254333591320224,
            "4": -0.009019064206633414,
            "5": 0.016193605568453326,
            "6": -0.02671558606433524,
            "7": -0.024184292365179074,
            "8": 0.3538853469641021,
            "9": -0.01821356781019079
           },
           {
            "0": 0.20208860237515264,
            "1": -0.026363178228837676,
            "10": 0.34407888325872127,
            "11": -0.036745905336769386,
            "12": -0.11031915543773241,
            "13": -0.01198524847236139,
            "14": 0.022827168908479807,
            "15": -0.0008674968446256695,
            "16": 0.02469822656303012,
            "17": 0.45918839708314385,
            "18": -0.004095526021226202,
            "19": 0.002759440242340428,
            "2": 0.014406048430630005,
            "20": 0.7692124251007031,
            "21": 0.7143647616385931,
            "22": 0.5102236357788085,
            "23": 1,
            "3": 0.06906537825528458,
            "4": -0.009196645292770315,
            "5": -0.004998722628107581,
            "6": -0.020123200184066006,
            "7": 0.025975807949088936,
            "8": 0.37528060776572636,
            "9": -0.027656213884289974
           }
          ],
          "bdata": "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",
          "dtype": "f8",
          "shape": "24, 24"
         }
        }
       ],
       "layout": {
        "height": 700,
        "template": {
         "data": {
          "bar": [
           {
            "error_x": {
             "color": "#2a3f5f"
            },
            "error_y": {
             "color": "#2a3f5f"
            },
            "marker": {
             "line": {
              "color": "#E5ECF6",
              "width": 0.5
             },
             "pattern": {
              "fillmode": "overlay",
              "size": 10,
              "solidity": 0.2
             }
            },
            "type": "bar"
           }
          ],
          "barpolar": [
           {
            "marker": {
             "line": {
              "color": "#E5ECF6",
              "width": 0.5
             },
             "pattern": {
              "fillmode": "overlay",
              "size": 10,
              "solidity": 0.2
             }
            },
            "type": "barpolar"
           }
          ],
          "carpet": [
           {
            "aaxis": {
             "endlinecolor": "#2a3f5f",
             "gridcolor": "white",
             "linecolor": "white",
             "minorgridcolor": "white",
             "startlinecolor": "#2a3f5f"
            },
            "baxis": {
             "endlinecolor": "#2a3f5f",
             "gridcolor": "white",
             "linecolor": "white",
             "minorgridcolor": "white",
             "startlinecolor": "#2a3f5f"
            },
            "type": "carpet"
           }
          ],
          "choropleth": [
           {
            "colorbar": {
             "outlinewidth": 0,
             "ticks": ""
            },
            "type": "choropleth"
           }
          ],
          "contour": [
           {
            "colorbar": {
             "outlinewidth": 0,
             "ticks": ""
            },
            "colorscale": [
             [
              0,
              "#0d0887"
             ],
             [
              0.1111111111111111,
              "#46039f"
             ],
             [
              0.2222222222222222,
              "#7201a8"
             ],
             [
              0.3333333333333333,
              "#9c179e"
             ],
             [
              0.4444444444444444,
              "#bd3786"
             ],
             [
              0.5555555555555556,
              "#d8576b"
             ],
             [
              0.6666666666666666,
              "#ed7953"
             ],
             [
              0.7777777777777778,
              "#fb9f3a"
             ],
             [
              0.8888888888888888,
              "#fdca26"
             ],
             [
              1,
              "#f0f921"
             ]
            ],
            "type": "contour"
           }
          ],
          "contourcarpet": [
           {
            "colorbar": {
             "outlinewidth": 0,
             "ticks": ""
            },
            "type": "contourcarpet"
           }
          ],
          "heatmap": [
           {
            "colorbar": {
             "outlinewidth": 0,
             "ticks": ""
            },
            "colorscale": [
             [
              0,
              "#0d0887"
             ],
             [
              0.1111111111111111,
              "#46039f"
             ],
             [
              0.2222222222222222,
              "#7201a8"
             ],
             [
              0.3333333333333333,
              "#9c179e"
             ],
             [
              0.4444444444444444,
              "#bd3786"
             ],
             [
              0.5555555555555556,
              "#d8576b"
             ],
             [
              0.6666666666666666,
              "#ed7953"
             ],
             [
              0.7777777777777778,
              "#fb9f3a"
             ],
             [
              0.8888888888888888,
              "#fdca26"
             ],
             [
              1,
              "#f0f921"
             ]
            ],
            "type": "heatmap"
           }
          ],
          "histogram": [
           {
            "marker": {
             "pattern": {
              "fillmode": "overlay",
              "size": 10,
              "solidity": 0.2
             }
            },
            "type": "histogram"
           }
          ],
          "histogram2d": [
           {
            "colorbar": {
             "outlinewidth": 0,
             "ticks": ""
            },
            "colorscale": [
             [
              0,
              "#0d0887"
             ],
             [
              0.1111111111111111,
              "#46039f"
             ],
             [
              0.2222222222222222,
              "#7201a8"
             ],
             [
              0.3333333333333333,
              "#9c179e"
             ],
             [
              0.4444444444444444,
              "#bd3786"
             ],
             [
              0.5555555555555556,
              "#d8576b"
             ],
             [
              0.6666666666666666,
              "#ed7953"
             ],
             [
              0.7777777777777778,
              "#fb9f3a"
             ],
             [
              0.8888888888888888,
              "#fdca26"
             ],
             [
              1,
              "#f0f921"
             ]
            ],
            "type": "histogram2d"
           }
          ],
          "histogram2dcontour": [
           {
            "colorbar": {
             "outlinewidth": 0,
             "ticks": ""
            },
            "colorscale": [
             [
              0,
              "#0d0887"
             ],
             [
              0.1111111111111111,
              "#46039f"
             ],
             [
              0.2222222222222222,
              "#7201a8"
             ],
             [
              0.3333333333333333,
              "#9c179e"
             ],
             [
              0.4444444444444444,
              "#bd3786"
             ],
             [
              0.5555555555555556,
              "#d8576b"
             ],
             [
              0.6666666666666666,
              "#ed7953"
             ],
             [
              0.7777777777777778,
              "#fb9f3a"
             ],
             [
              0.8888888888888888,
              "#fdca26"
             ],
             [
              1,
              "#f0f921"
             ]
            ],
            "type": "histogram2dcontour"
           }
          ],
          "mesh3d": [
           {
            "colorbar": {
             "outlinewidth": 0,
             "ticks": ""
            },
            "type": "mesh3d"
           }
          ],
          "parcoords": [
           {
            "line": {
             "colorbar": {
              "outlinewidth": 0,
              "ticks": ""
             }
            },
            "type": "parcoords"
           }
          ],
          "pie": [
           {
            "automargin": true,
            "type": "pie"
           }
          ],
          "scatter": [
           {
            "fillpattern": {
             "fillmode": "overlay",
             "size": 10,
             "solidity": 0.2
            },
            "type": "scatter"
           }
          ],
          "scatter3d": [
           {
            "line": {
             "colorbar": {
              "outlinewidth": 0,
              "ticks": ""
             }
            },
            "marker": {
             "colorbar": {
              "outlinewidth": 0,
              "ticks": ""
             }
            },
            "type": "scatter3d"
           }
          ],
          "scattercarpet": [
           {
            "marker": {
             "colorbar": {
              "outlinewidth": 0,
              "ticks": ""
             }
            },
            "type": "scattercarpet"
           }
          ],
          "scattergeo": [
           {
            "marker": {
             "colorbar": {
              "outlinewidth": 0,
              "ticks": ""
             }
            },
            "type": "scattergeo"
           }
          ],
          "scattergl": [
           {
            "marker": {
             "colorbar": {
              "outlinewidth": 0,
              "ticks": ""
             }
            },
            "type": "scattergl"
           }
          ],
          "scattermap": [
           {
            "marker": {
             "colorbar": {
              "outlinewidth": 0,
              "ticks": ""
             }
            },
            "type": "scattermap"
           }
          ],
          "scattermapbox": [
           {
            "marker": {
             "colorbar": {
              "outlinewidth": 0,
              "ticks": ""
             }
            },
            "type": "scattermapbox"
           }
          ],
          "scatterpolar": [
           {
            "marker": {
             "colorbar": {
              "outlinewidth": 0,
              "ticks": ""
             }
            },
            "type": "scatterpolar"
           }
          ],
          "scatterpolargl": [
           {
            "marker": {
             "colorbar": {
              "outlinewidth": 0,
              "ticks": ""
             }
            },
            "type": "scatterpolargl"
           }
          ],
          "scatterternary": [
           {
            "marker": {
             "colorbar": {
              "outlinewidth": 0,
              "ticks": ""
             }
            },
            "type": "scatterternary"
           }
          ],
          "surface": [
           {
            "colorbar": {
             "outlinewidth": 0,
             "ticks": ""
            },
            "colorscale": [
             [
              0,
              "#0d0887"
             ],
             [
              0.1111111111111111,
              "#46039f"
             ],
             [
              0.2222222222222222,
              "#7201a8"
             ],
             [
              0.3333333333333333,
              "#9c179e"
             ],
             [
              0.4444444444444444,
              "#bd3786"
             ],
             [
              0.5555555555555556,
              "#d8576b"
             ],
             [
              0.6666666666666666,
              "#ed7953"
             ],
             [
              0.7777777777777778,
              "#fb9f3a"
             ],
             [
              0.8888888888888888,
              "#fdca26"
             ],
             [
              1,
              "#f0f921"
             ]
            ],
            "type": "surface"
           }
          ],
          "table": [
           {
            "cells": {
             "fill": {
              "color": "#EBF0F8"
             },
             "line": {
              "color": "white"
             }
            },
            "header": {
             "fill": {
              "color": "#C8D4E3"
             },
             "line": {
              "color": "white"
             }
            },
            "type": "table"
           }
          ]
         },
         "layout": {
          "annotationdefaults": {
           "arrowcolor": "#2a3f5f",
           "arrowhead": 0,
           "arrowwidth": 1
          },
          "autotypenumbers": "strict",
          "coloraxis": {
           "colorbar": {
            "outlinewidth": 0,
            "ticks": ""
           }
          },
          "colorscale": {
           "diverging": [
            [
             0,
             "#8e0152"
            ],
            [
             0.1,
             "#c51b7d"
            ],
            [
             0.2,
             "#de77ae"
            ],
            [
             0.3,
             "#f1b6da"
            ],
            [
             0.4,
             "#fde0ef"
            ],
            [
             0.5,
             "#f7f7f7"
            ],
            [
             0.6,
             "#e6f5d0"
            ],
            [
             0.7,
             "#b8e186"
            ],
            [
             0.8,
             "#7fbc41"
            ],
            [
             0.9,
             "#4d9221"
            ],
            [
             1,
             "#276419"
            ]
           ],
           "sequential": [
            [
             0,
             "#0d0887"
            ],
            [
             0.1111111111111111,
             "#46039f"
            ],
            [
             0.2222222222222222,
             "#7201a8"
            ],
            [
             0.3333333333333333,
             "#9c179e"
            ],
            [
             0.4444444444444444,
             "#bd3786"
            ],
            [
             0.5555555555555556,
             "#d8576b"
            ],
            [
             0.6666666666666666,
             "#ed7953"
            ],
            [
             0.7777777777777778,
             "#fb9f3a"
            ],
            [
             0.8888888888888888,
             "#fdca26"
            ],
            [
             1,
             "#f0f921"
            ]
           ],
           "sequentialminus": [
            [
             0,
             "#0d0887"
            ],
            [
             0.1111111111111111,
             "#46039f"
            ],
            [
             0.2222222222222222,
             "#7201a8"
            ],
            [
             0.3333333333333333,
             "#9c179e"
            ],
            [
             0.4444444444444444,
             "#bd3786"
            ],
            [
             0.5555555555555556,
             "#d8576b"
            ],
            [
             0.6666666666666666,
             "#ed7953"
            ],
            [
             0.7777777777777778,
             "#fb9f3a"
            ],
            [
             0.8888888888888888,
             "#fdca26"
            ],
            [
             1,
             "#f0f921"
            ]
           ]
          },
          "colorway": [
           "#636efa",
           "#EF553B",
           "#00cc96",
           "#ab63fa",
           "#FFA15A",
           "#19d3f3",
           "#FF6692",
           "#B6E880",
           "#FF97FF",
           "#FECB52"
          ],
          "font": {
           "color": "#2a3f5f"
          },
          "geo": {
           "bgcolor": "white",
           "lakecolor": "white",
           "landcolor": "#E5ECF6",
           "showlakes": true,
           "showland": true,
           "subunitcolor": "white"
          },
          "hoverlabel": {
           "align": "left"
          },
          "hovermode": "closest",
          "mapbox": {
           "style": "light"
          },
          "paper_bgcolor": "white",
          "plot_bgcolor": "#E5ECF6",
          "polar": {
           "angularaxis": {
            "gridcolor": "white",
            "linecolor": "white",
            "ticks": ""
           },
           "bgcolor": "#E5ECF6",
           "radialaxis": {
            "gridcolor": "white",
            "linecolor": "white",
            "ticks": ""
           }
          },
          "scene": {
           "xaxis": {
            "backgroundcolor": "#E5ECF6",
            "gridcolor": "white",
            "gridwidth": 2,
            "linecolor": "white",
            "showbackground": true,
            "ticks": "",
            "zerolinecolor": "white"
           },
           "yaxis": {
            "backgroundcolor": "#E5ECF6",
            "gridcolor": "white",
            "gridwidth": 2,
            "linecolor": "white",
            "showbackground": true,
            "ticks": "",
            "zerolinecolor": "white"
           },
           "zaxis": {
            "backgroundcolor": "#E5ECF6",
            "gridcolor": "white",
            "gridwidth": 2,
            "linecolor": "white",
            "showbackground": true,
            "ticks": "",
            "zerolinecolor": "white"
           }
          },
          "shapedefaults": {
           "line": {
            "color": "#2a3f5f"
           }
          },
          "ternary": {
           "aaxis": {
            "gridcolor": "white",
            "linecolor": "white",
            "ticks": ""
           },
           "baxis": {
            "gridcolor": "white",
            "linecolor": "white",
            "ticks": ""
           },
           "bgcolor": "#E5ECF6",
           "caxis": {
            "gridcolor": "white",
            "linecolor": "white",
            "ticks": ""
           }
          },
          "title": {
           "x": 0.05
          },
          "xaxis": {
           "automargin": true,
           "gridcolor": "white",
           "linecolor": "white",
           "ticks": "",
           "title": {
            "standoff": 15
           },
           "zerolinecolor": "white",
           "zerolinewidth": 2
          },
          "yaxis": {
           "automargin": true,
           "gridcolor": "white",
           "linecolor": "white",
           "ticks": "",
           "title": {
            "standoff": 15
           },
           "zerolinecolor": "white",
           "zerolinewidth": 2
          }
         }
        },
        "title": {
         "text": "Pearson Correlation of Numerical Features"
        },
        "width": 900,
        "xaxis": {
         "autorange": true,
         "nticks": 36,
         "range": [
          -0.5,
          23.5
         ],
         "ticks": "",
         "type": "category"
        },
        "yaxis": {
         "autorange": true,
         "range": [
          -0.5,
          23.5
         ],
         "ticks": "",
         "type": "category"
        }
       }
      },
      "image/png": "[encoded data removed]",
      "text/html": [
       "<div>            <script src=\"https://cdnjs.cloudflare.com/ajax/libs/mathjax/2.7.5/MathJax.js?config=TeX-AMS-MML_SVG\"></script><script type=\"text/javascript\">if (window.MathJax && window.MathJax.Hub && window.MathJax.Hub.Config) {window.MathJax.Hub.Config({SVG: {font: \"STIX-Web\"}});}</script>                <script type=\"text/javascript\">window.PlotlyConfig = {MathJaxConfig: 'local'};</script>\n",
       "        <script charset=\"utf-8\" src=\"https://cdn.plot.ly/plotly-3.0.1.min.js\"></script>                <div id=\"3153f63d-afc2-450b-bc5a-e31095269c53\" class=\"plotly-graph-div\" style=\"height:700px; width:900px;\"></div>            <script type=\"text/javascript\">                window.PLOTLYENV=window.PLOTLYENV || {};                                if (document.getElementById(\"3153f63d-afc2-450b-bc5a-e31095269c53\")) {                    Plotly.newPlot(                        \"3153f63d-afc2-450b-bc5a-e31095269c53\",                        [{\"colorscale\":[[0.0,\"#440154\"],[0.1111111111111111,\"#482878\"],[0.2222222222222222,\"#3e4989\"],[0.3333333333333333,\"#31688e\"],[0.4444444444444444,\"#26828e\"],[0.5555555555555556,\"#1f9e89\"],[0.6666666666666666,\"#35b779\"],[0.7777777777777778,\"#6ece58\"],[0.8888888888888888,\"#b5de2b\"],[1.0,\"#fde725\"]],\"opacity\":1.0,\"reversescale\":false,\"x\":[\"Age\",\"DailyRate\",\"DistanceFromHome\",\"Education\",\"EmployeeNumber\",\"EnvironmentSatisfaction\",\"HourlyRate\",\"JobInvolvement\",\"JobLevel\",\"JobSatisfaction\",\"MonthlyIncome\",\"MonthlyRate\",\"NumCompaniesWorked\",\"PercentSalaryHike\",\"PerformanceRating\",\"RelationshipSatisfaction\",\"StockOptionLevel\",\"TotalWorkingYears\",\"TrainingTimesLastYear\",\"WorkLifeBalance\",\"YearsAtCompany\",\"YearsInCurrentRole\",\"YearsSinceLastPromotion\",\"YearsWithCurrManager\"],\"y\":[\"Age\",\"DailyRate\",\"DistanceFromHome\",\"Education\",\"EmployeeNumber\",\"EnvironmentSatisfaction\",\"HourlyRate\",\"JobInvolvement\",\"JobLevel\",\"JobSatisfaction\",\"MonthlyIncome\",\"MonthlyRate\",\"NumCompaniesWorked\",\"PercentSalaryHike\",\"PerformanceRating\",\"RelationshipSatisfaction\",\"StockOptionLevel\",\"TotalWorkingYears\",\"TrainingTimesLastYear\",\"WorkLifeBalance\",\"YearsAtCompany\",\"YearsInCurrentRole\",\"YearsSinceLastPromotion\",\"YearsWithCurrManager\"],\"z\":{\"dtype\":\"f8\",\"bdata\":\"AAAAAAAA8D+PlA6AZ9WFP7KMKbkZoFu\\u002fA+SVa9mgyj\\u002fxzmGKJceEv0BTsH6mx4Q\\u002fZA\\u002f1R5LemD\\u002fvIlSMH4mePyWn4IatTuA\\u002fmiHqRYEJdL83Ssdm2dzfP3q+0fVxuZw\\u002fuzqSQzct0z8a3gwMLsRtP3RSlj2EMV8\\u002fkX1gHOdoqz9RJ0sYeTSjP2jcwWatxeU\\u002fOfC33noXlL\\u002fUPhBdewGWvyzYQJ577NM\\u002fKBB4f1dAyz\\u002f26gjFtbbLP449DBEK3sk\\u002fj5QOgGfVhT8AAAAAAADwPz1IOE6Ba3S\\u002fXKP7o7Q1kb+m4OgJaxuqvwmixWudy5I\\u002fNEgxo0zxlz\\u002feJQ1+\\u002fZ6nP5xRIubaTGg\\u002fihV3mwFOnz\\u002fvmNvcb5F\\u002fP7oQJVwbeqC\\u002f1pjr0NiIoz+F\\u002fGEBoj+XPwGjID+YBD8\\u002fmxTrcpQRgD9VeGeYvZOlP3fXbUDnuY0\\u002fv6+x11oXZD9NCJPa0WCjv2Cn9WGgb6G\\u002fQPN+ezxXhD+\\u002fseK1YwOhv9XzPvHy\\u002fpq\\u002fsowpuRmgW789SDhOgWt0vwAAAAAAAPA\\u002fRG+dA\\u002f2LlT9DW9hYa9qgP8fI4+4MdpC\\u002fW3NuPLLgnz+PQOne9\\u002fyBP00b+uRQuHU\\u002fXSmrBx0Obr8RVfYOPGyRv8M04anYIZw\\u002fC+SiPezznb+mrag8u5mkP9sDJrOfwps\\u002fqidssgLcej+0PylvdvmmP\\u002fJ4eJtB9XI\\u002fyoapsBfqor9pwplEfzGbvyXNNJDIeIM\\u002fWdt2expMkz8qGyST\\u002f4mEP05B\\u002fhbrgI0\\u002fA+SVa9mgyj9co\\u002fujtDWRv0RvnQP9i5U\\u002fAAAAAAAA8D9HumYTNoqlPybw7UiGx5u\\u002frkbCtWstkT8FOwm3YrqlPyQKE7C6Abo\\u002fJqCkH2sih7\\u002fJCU3KV0+4Pxyy+tbQtZq\\u002fOndzGyQrwD\\u002frkP48VcGGv7U0JWayIJm\\u002f2Oegzaesgr\\u002fcEC9FRt2SP0DLpT\\u002fU+sI\\u002fjo48q+Czmb8Vg6tHFRyEP2gIKWhvsbE\\u002fmXgCzjHXrj8LyuFYOcerP+Bu5MRErrE\\u002f8c5hiiXHhL+m4OgJaxuqv0Nb2Fhr2qA\\u002fR7pmEzaKpT8AAAAAAADwPzeWngkwC5I\\u002fJ76sfQIDoj\\u002fCkne\\u002fgjZ8vxbP3hGy9pK\\u002f\\u002fCA57Katp78bGc+1aV6Ovzb+C5VQ54k\\u002fd+CebDV\\u002fVL8c\\u002f2asYYKKv9vAw6Dx2JS\\u002f1oKB\\u002fW\\u002fisb9mipFSLdyvP3oVvEyAa42\\u002f98Tq5W0rmD+n77xushyFPwFTJYA9BYe\\u002fexRKRpI8gb9p0HZOlniCv4J1H9aw1YK\\u002fQFOwfqbHhD8JosVrncuSP8fI4+4MdpC\\u002fJvDtSIbHm783lp4JMAuSPwAAAAAAAPA\\u002fnW+92NmGqb99QH9r2POAv2XWXGA82lM\\u002fQtiZyOjJe78wa1oTIaN5v16xGf1BQKM\\u002fT5S5cg3LiT\\u002fAfp2ZIzugvzMVIYPRQZ6\\u002fUGPsubxlfz+tggGqwR1sP1ia0yfHD2a\\u002fFX7lMO3Sk7+cmelpVEqcP4AJ7IZn4Vc\\u002fNDuXMYxwkj\\u002fMh0h5DpWQP8UZWmOKeXS\\u002fZA\\u002f1R5LemD80SDGjTPGXP1tzbjyy4J8\\u002frkbCtWstkT8nvqx9AgOiP51vvdjZhqm\\u002fAAAAAAAA8D9BQoR21PGlP+j\\u002fw9SfhZy\\u002fVgPCZvxCsr91sx3TYSyQv8\\u002fucPjmU4+\\u002ffjErRkuwlj9f3sU0F4+Cv59uvC1hymG\\u002fVgkXzVLMVT\\u002fVSVfOH7ypP\\u002fG2iOMVHmO\\u002fzEtx43KBgb84xITkCN9yv6lN4gQ0DZS\\u002fyia1DU2vmL8nWcKhVFubv2THuRotm5S\\u002f7yJUjB+Jnj\\u002feJQ1+\\u002fZ6nP49A6d73\\u002fIE\\u002fBTsJt2K6pT\\u002fCkne\\u002fgjZ8v31Af2vY84C\\u002fQUKEdtTxpT8AAAAAAADwP5tdMyiy3Ym\\u002fFfoq8sf9lb+ThqXLqEaPv+Rn8i68tpC\\u002fTDtO\\u002f9O+jj+n34ZME56Rv5HXfCngxJ2\\u002f3YTDVVqPoT9cUDDyBwqWP16Jqz\\u002f2qXa\\u002fSFs6IHBpj789bOfsTe+Nv5Hl4HEy3pW\\u002fHC8kCTPagT\\u002fnMSRjxMOYvyCZg\\u002fZmmZo\\u002fJafghq1O4D+cUSLm2kxoP00b+uRQuHU\\u002fJAoTsLoBuj8Wz94RsvaSv2XWXGA82lM\\u002f6P\\u002fD1J+FnL+bXTMost2JvwAAAAAAAPA\\u002fJyMamoDYX7\\u002fOMzld22juP2O5v1mYQaQ\\u002fnGM0EXo9wj+yNQfxMcihv8k4cdI9u5W\\u002fi+LkLzEplj937x+zmKOMP6oYZanYB+k\\u002fXc21KIugkr9hnhf52FyjP87lxU6UHOE\\u002feVFP\\u002fbHs2D\\u002fEpO+5DqbWP6pQS\\u002fSYBNg\\u002fmiHqRYEJdL+KFXebAU6fP10pqwcdDm6\\u002fJqCkH2sih7\\u002f8IDnspq2nv0LYmcjoyXu\\u002fVgPCZvxCsr8V+iryx\\u002f2VvycjGpqA2F+\\u002fAAAAAAAA8D8sK9VlY1B9vzqS6RqRGUU\\u002fNO1CmqKErL9XKrAjanuUP+ttXUiS0WI\\u002fbQrJ+kSBib\\u002f2mprcweSFP\\u002f+3Mkxlq5S\\u002fS9k8ahKsd7\\u002f\\u002fwPLv++yTv2z1p1WwJm+\\u002fCjD3JXzhYr+gXVrYk6aSv8QlqBjpUZy\\u002fN0rHZtnc3z\\u002fvmNvcb5F\\u002fPxFV9g48bJG\\u002fyQlNyldPuD8bGc+1aV6OvzBrWhMho3m\\u002fdbMd02EskL+ThqXLqEaPv84zOV3baO4\\u002fLCvVZWNQfb8AAAAAAADwP90GZ3MX06E\\u002few53iVAjwz8akODbS+ybvx2TVAfxh5G\\u002fvw4v6JB+mj+2X\\u002fYoXCZ2P5LG\\u002fp2Ku+g\\u002f97Zh2AhClr8CbE+\\u002fYmufP+FMa3MFdeA\\u002f2pxK5clI1z+tZXEWHRTWP0bJtW9jBdY\\u002fer7R9XG5nD+6ECVcG3qgv8M04anYIZw\\u002fHLL61tC1mr82\\u002fguVUOeJP16xGf1BQKM\\u002fz+5w+OZTj7\\u002fkZ\\u002fIuvLaQv2O5v1mYQaQ\\u002fOpLpGpEZRT\\u002fdBmdzF9OhPwAAAAAAAPA\\u002ftyybHx7xkT+AdTZpqFV6v+Ao6aMDGIS\\u002faltePse7cL9Nz3wSw5Khv36ktDO8E5s\\u002fHX7wFYsIWD8q093o\\u002fE6AP1PlvlYLOZi\\u002fGZSWUq8+ir+V7zEroqtZP0TeXftb0KK\\u002fuzqSQzct0z\\u002fWmOvQ2IijPwvkoj3s852\\u002fOndzGyQrwD934J5sNX9Uv0+UuXINy4k\\u002ffjErRkuwlj9MO07\\u002f076OP5xjNBF6PcI\\u002fNO1CmqKErL97DneJUCPDP7csmx8e8ZE\\u002fAAAAAAAA8D84DPCe0veEv7FHJMzF3Yy\\u002fdFYCftP\\u002fqj+JtM\\u002f3GsyePzpWsvnwas4\\u002fxbTWbevosL+K06c0ByKBv\\u002fyLfWfcUL6\\u002fYXM6WaY7t78RuaY\\u002fRdmiv\\u002fg2ukzgPby\\u002fGt4MDC7EbT+F\\u002fGEBoj+XP6atqDy7maQ\\u002f65D+PFXBhr8c\\u002f2asYYKKv8B+nZkjO6C\\u002fX97FNBePgr+n34ZME56Rv7I1B\\u002fExyKG\\u002fVyqwI2p7lD8akODbS+ybv4B1NmmoVXq\\u002fOAzwntL3hL8AAAAAAADwP9CoC+zrwOg\\u002f1rLnqx27pL\\u002fZCTpratV+P\\u002fcdWjFkGpW\\u002feKvX1KBidb\\u002fOieUs5d1qv5KKLF5ybaK\\u002fpYr9EnTnWL++WU\\u002fAnq+Wv8gqydG4i4i\\u002fdFKWPYQxXz8BoyA\\u002fmAQ\\u002fP9sDJrOfwps\\u002ftTQlZrIgmb\\u002fbwMOg8diUvzMVIYPRQZ6\\u002fn268LWHKYb+R13wp4MSdv8k4cdI9u5W\\u002f621dSJLRYj8dk1QH8YeRv+Ao6aMDGIS\\u002fsUckzMXdjL\\u002fQqAvs68DoPwAAAAAAAPA\\u002fUVydR0wNoL8fZR6dmrlsPxBJx5E\\u002fn3s\\u002fe26fHNLnj7+fQ3T3oRJlP9C6akr7I2w\\u002fSDiEGLjpoT+En0arWFOSP0JSsF8BYJc\\u002fkX1gHOdoqz+bFOtylBGAP6onbLIC3Ho\\u002f2Oegzaesgr\\u002fWgoH9b+Kxv1Bj7Lm8ZX8\\u002fVgkXzVLMVT\\u002fdhMNVWo+hP4vi5C8xKZY\\u002fbQrJ+kSBib+\\u002fDi\\u002fokH6aP2pbXj7Hu3C\\u002fdFYCftP\\u002fqj\\u002fWsuerHbukv1FcnUdMDaC\\u002fAAAAAAAA8D\\u002fMQZi5FYenv6LtzTKwoZg\\u002fbdWlZphzZD9hm2xlLROUPw+wERHj1JM\\u002fSXW0RsP4jr8hIhni7SWhP\\u002fjJ3EkXbUy\\u002fUSdLGHk0oz9VeGeYvZOlP7Q\\u002fKW92+aY\\u002f3BAvRUbdkj9mipFSLdyvP62CAarBHWw\\u002f1UlXzh+8qT9cUDDyBwqWP3fvH7OYo4w\\u002f9pqa3MHkhT+2X\\u002fYoXCZ2P03PfBLDkqG\\u002fibTP9xrMnj\\u002fZCTpratV+Px9lHp2auWw\\u002fzEGYuRWHp78AAAAAAADwPxRO58UqwoQ\\u002fe2UvAtwWhz+\\u002frGGFSelwPy9GMKC71o4\\u002f+5MP28wEqj\\u002foy\\u002fKkrWSNP6L9be19Spk\\u002faNzBZq3F5T93121A57mNP\\u002fJ4eJtB9XI\\u002fQMulP9T6wj96FbxMgGuNv1ia0yfHD2a\\u002f8baI4xUeY79eias\\u002f9ql2v6oYZanYB+k\\u002f\\u002f7cyTGWrlL+Sxv6dirvoP36ktDO8E5s\\u002fOlay+fBqzj\\u002f3HVoxZBqVvxBJx5E\\u002fn3s\\u002fou3NMrChmD8UTufFKsKEPwAAAAAAAPA\\u002fWmi9xDtCor84+nw\\u002fX4JQPxQi7bOqGeQ\\u002f8rcfPp123T8GOROEMOnZP1gvC7tXY90\\u002fOfC33noXlL+\\u002fr7HXWhdkP8qGqbAX6qK\\u002fjo48q+Czmb\\u002f3xOrlbSuYPxV+5TDt0pO\\u002fzEtx43KBgb9IWzogcGmPv13NtSiLoJK\\u002fS9k8ahKsd7\\u002f3tmHYCEKWvx1+8BWLCFg\\u002fxbTWbevosL94q9fUoGJ1v3tunxzS54+\\u002fbdWlZphzZD97ZS8C3BaHP1povcQ7QqK\\u002fAAAAAAAA8D94FCjl9b6cP3pvIswIPG0\\u002fRPvflzWAd7+KLmAW1+1gv34oI2V4xnC\\u002f1D4QXXsBlr9NCJPa0WCjv2nCmUR\\u002fMZu\\u002fFYOrRxUchD+n77xushyFP5yZ6WlUSpw\\u002fOMSE5Ajfcr89bOfsTe+Nv2GeF\\u002fnYXKM\\u002f\\u002f8Dy7\\u002fvsk78CbE+\\u002fYmufPyrT3ej8ToA\\u002fitOnNAcigb\\u002fOieUs5d1qv59DdPehEmU\\u002fYZtsZS0TlD+\\u002frGGFSelwPzj6fD9fglA\\u002feBQo5fW+nD8AAAAAAADwP6Kc3f02wog\\u002fr04jeMqGqT\\u002fVCC0lyk+CPwFnEzP3mmY\\u002fLNhAnnvs0z9gp\\u002fVhoG+hvyXNNJDIeIM\\u002faAgpaG+xsT8BUyWAPQWHv4AJ7IZn4Vc\\u002fqU3iBDQNlL+R5eBxMt6Vv87lxU6UHOE\\u002fbPWnVbAmb7\\u002fhTGtzBXXgP1PlvlYLOZi\\u002f\\u002fIt9Z9xQvr+Siixecm2iv9C6akr7I2w\\u002fD7AREePUkz8vRjCgu9aOPxQi7bOqGeQ\\u002fem8izAg8bT+inN39NsKIPwAAAAAAAPA\\u002frR+P6rVH6D+QUHVjAcrjP\\u002fR\\u002fL2Bjneg\\u002fKBB4f1dAyz9A8357PFeEP1nbdnsaTJM\\u002fmXgCzjHXrj97FEpGkjyBvzQ7lzGMcJI\\u002fyia1DU2vmL8cLyQJM9qBP3lRT\\u002f2x7Ng\\u002fCjD3JXzhYr\\u002fanErlyUjXPxmUllKvPoq\\u002fYXM6WaY7t7+liv0SdOdYv0g4hBi46aE\\u002fSXW0RsP4jr\\u002f7kw\\u002fbzASqP\\u002fK3Hz6ddt0\\u002fRPvflzWAd7+vTiN4yoapP60fj+q1R+g\\u002fAAAAAAAA8D\\u002fxnIdBrYnhPwriFH0T3OY\\u002f9uoIxbW2yz+\\u002fseK1YwOhvyobJJP\\u002fiYQ\\u002fC8rhWDnHqz9p0HZOlniCv8yHSHkOlZA\\u002fJ1nCoVRbm7\\u002fnMSRjxMOYv8Sk77kOptY\\u002foF1a2JOmkr+tZXEWHRTWP5XvMSuiq1k\\u002fEbmmP0XZor++WU\\u002fAnq+Wv4SfRqtYU5I\\u002fISIZ4u0loT\\u002foy\\u002fKkrWSNPwY5E4Qw6dk\\u002fii5gFtftYL\\u002fVCC0lyk+CP5BQdWMByuM\\u002f8ZyHQa2J4T8AAAAAAADwP0seqoTAU+A\\u002fjj0MEQreyT\\u002fV8z7x8v6av05B\\u002fhbrgI0\\u002f4G7kxESusT+CdR\\u002fWsNWCv8UZWmOKeXS\\u002fZMe5Gi2blL8gmYP2ZpmaP6pQS\\u002fSYBNg\\u002fxCWoGOlRnL9GybVvYwXWP0TeXftb0KK\\u002f+Da6TOA9vL\\u002fIKsnRuIuIv0JSsF8BYJc\\u002f+MncSRdtTL+i\\u002fW3tfUqZP1gvC7tXY90\\u002ffigjZXjGcL8BZxMz95pmP\\u002fR\\u002fL2Bjneg\\u002fCuIUfRPc5j9LHqqEwFPgPwAAAAAAAPA\\u002f\",\"shape\":\"24, 24\"},\"type\":\"heatmap\"}],                        {\"height\":700,\"template\":{\"data\":{\"barpolar\":[{\"marker\":{\"line\":{\"color\":\"#E5ECF6\",\"width\":0.5},\"pattern\":{\"fillmode\":\"overlay\",\"size\":10,\"solidity\":0.2}},\"type\":\"barpolar\"}],\"bar\":[{\"error_x\":{\"color\":\"#2a3f5f\"},\"error_y\":{\"color\":\"#2a3f5f\"},\"marker\":{\"line\":{\"color\":\"#E5ECF6\",\"width\":0.5},\"pattern\":{\"fillmode\":\"overlay\",\"size\":10,\"solidity\":0.2}},\"type\":\"bar\"}],\"carpet\":[{\"aaxis\":{\"endlinecolor\":\"#2a3f5f\",\"gridcolor\":\"white\",\"linecolor\":\"white\",\"minorgridcolor\":\"white\",\"startlinecolor\":\"#2a3f5f\"},\"baxis\":{\"endlinecolor\":\"#2a3f5f\",\"gridcolor\":\"white\",\"linecolor\":\"white\",\"minorgridcolor\":\"white\",\"startlinecolor\":\"#2a3f5f\"},\"type\":\"carpet\"}],\"choropleth\":[{\"colorbar\":{\"outlinewidth\":0,\"ticks\":\"\"},\"type\":\"choropleth\"}],\"contourcarpet\":[{\"colorbar\":{\"outlinewidth\":0,\"ticks\":\"\"},\"type\":\"contourcarpet\"}],\"contour\":[{\"colorbar\":{\"outlinewidth\":0,\"ticks\":\"\"},\"colorscale\":[[0.0,\"#0d0887\"],[0.1111111111111111,\"#46039f\"],[0.2222222222222222,\"#7201a8\"],[0.3333333333333333,\"#9c179e\"],[0.4444444444444444,\"#bd3786\"],[0.5555555555555556,\"#d8576b\"],[0.6666666666666666,\"#ed7953\"],[0.7777777777777778,\"#fb9f3a\"],[0.8888888888888888,\"#fdca26\"],[1.0,\"#f0f921\"]],\"type\":\"contour\"}],\"heatmap\":[{\"colorbar\":{\"outlinewidth\":0,\"ticks\":\"\"},\"colorscale\":[[0.0,\"#0d0887\"],[0.1111111111111111,\"#46039f\"],[0.2222222222222222,\"#7201a8\"],[0.3333333333333333,\"#9c179e\"],[0.4444444444444444,\"#bd3786\"],[0.5555555555555556,\"#d8576b\"],[0.6666666666666666,\"#ed7953\"],[0.7777777777777778,\"#fb9f3a\"],[0.8888888888888888,\"#fdca26\"],[1.0,\"#f0f921\"]],\"type\":\"heatmap\"}],\"histogram2dcontour\":[{\"colorbar\":{\"outlinewidth\":0,\"ticks\":\"\"},\"colorscale\":[[0.0,\"#0d0887\"],[0.1111111111111111,\"#46039f\"],[0.2222222222222222,\"#7201a8\"],[0.3333333333333333,\"#9c179e\"],[0.4444444444444444,\"#bd3786\"],[0.5555555555555556,\"#d8576b\"],[0.6666666666666666,\"#ed7953\"],[0.7777777777777778,\"#fb9f3a\"],[0.8888888888888888,\"#fdca26\"],[1.0,\"#f0f921\"]],\"type\":\"histogram2dcontour\"}],\"histogram2d\":[{\"colorbar\":{\"outlinewidth\":0,\"ticks\":\"\"},\"colorscale\":[[0.0,\"#0d0887\"],[0.1111111111111111,\"#46039f\"],[0.2222222222222222,\"#7201a8\"],[0.3333333333333333,\"#9c179e\"],[0.4444444444444444,\"#bd3786\"],[0.5555555555555556,\"#d8576b\"],[0.6666666666666666,\"#ed7953\"],[0.7777777777777778,\"#fb9f3a\"],[0.8888888888888888,\"#fdca26\"],[1.0,\"#f0f921\"]],\"type\":\"histogram2d\"}],\"histogram\":[{\"marker\":{\"pattern\":{\"fillmode\":\"overlay\",\"size\":10,\"solidity\":0.2}},\"type\":\"histogram\"}],\"mesh3d\":[{\"colorbar\":{\"outlinewidth\":0,\"ticks\":\"\"},\"type\":\"mesh3d\"}],\"parcoords\":[{\"line\":{\"colorbar\":{\"outlinewidth\":0,\"ticks\":\"\"}},\"type\":\"parcoords\"}],\"pie\":[{\"automargin\":true,\"type\":\"pie\"}],\"scatter3d\":[{\"line\":{\"colorbar\":{\"outlinewidth\":0,\"ticks\":\"\"}},\"marker\":{\"colorbar\":{\"outlinewidth\":0,\"ticks\":\"\"}},\"type\":\"scatter3d\"}],\"scattercarpet\":[{\"marker\":{\"colorbar\":{\"outlinewidth\":0,\"ticks\":\"\"}},\"type\":\"scattercarpet\"}],\"scattergeo\":[{\"marker\":{\"colorbar\":{\"outlinewidth\":0,\"ticks\":\"\"}},\"type\":\"scattergeo\"}],\"scattergl\":[{\"marker\":{\"colorbar\":{\"outlinewidth\":0,\"ticks\":\"\"}},\"type\":\"scattergl\"}],\"scattermapbox\":[{\"marker\":{\"colorbar\":{\"outlinewidth\":0,\"ticks\":\"\"}},\"type\":\"scattermapbox\"}],\"scattermap\":[{\"marker\":{\"colorbar\":{\"outlinewidth\":0,\"ticks\":\"\"}},\"type\":\"scattermap\"}],\"scatterpolargl\":[{\"marker\":{\"colorbar\":{\"outlinewidth\":0,\"ticks\":\"\"}},\"type\":\"scatterpolargl\"}],\"scatterpolar\":[{\"marker\":{\"colorbar\":{\"outlinewidth\":0,\"ticks\":\"\"}},\"type\":\"scatterpolar\"}],\"scatter\":[{\"fillpattern\":{\"fillmode\":\"overlay\",\"size\":10,\"solidity\":0.2},\"type\":\"scatter\"}],\"scatterternary\":[{\"marker\":{\"colorbar\":{\"outlinewidth\":0,\"ticks\":\"\"}},\"type\":\"scatterternary\"}],\"surface\":[{\"colorbar\":{\"outlinewidth\":0,\"ticks\":\"\"},\"colorscale\":[[0.0,\"#0d0887\"],[0.1111111111111111,\"#46039f\"],[0.2222222222222222,\"#7201a8\"],[0.3333333333333333,\"#9c179e\"],[0.4444444444444444,\"#bd3786\"],[0.5555555555555556,\"#d8576b\"],[0.6666666666666666,\"#ed7953\"],[0.7777777777777778,\"#fb9f3a\"],[0.8888888888888888,\"#fdca26\"],[1.0,\"#f0f921\"]],\"type\":\"surface\"}],\"table\":[{\"cells\":{\"fill\":{\"color\":\"#EBF0F8\"},\"line\":{\"color\":\"white\"}},\"header\":{\"fill\":{\"color\":\"#C8D4E3\"},\"line\":{\"color\":\"white\"}},\"type\":\"table\"}]},\"layout\":{\"annotationdefaults\":{\"arrowcolor\":\"#2a3f5f\",\"arrowhead\":0,\"arrowwidth\":1},\"autotypenumbers\":\"strict\",\"coloraxis\":{\"colorbar\":{\"outlinewidth\":0,\"ticks\":\"\"}},\"colorscale\":{\"diverging\":[[0,\"#8e0152\"],[0.1,\"#c51b7d\"],[0.2,\"#de77ae\"],[0.3,\"#f1b6da\"],[0.4,\"#fde0ef\"],[0.5,\"#f7f7f7\"],[0.6,\"#e6f5d0\"],[0.7,\"#b8e186\"],[0.8,\"#7fbc41\"],[0.9,\"#4d9221\"],[1,\"#276419\"]],\"sequential\":[[0.0,\"#0d0887\"],[0.1111111111111111,\"#46039f\"],[0.2222222222222222,\"#7201a8\"],[0.3333333333333333,\"#9c179e\"],[0.4444444444444444,\"#bd3786\"],[0.5555555555555556,\"#d8576b\"],[0.6666666666666666,\"#ed7953\"],[0.7777777777777778,\"#fb9f3a\"],[0.8888888888888888,\"#fdca26\"],[1.0,\"#f0f921\"]],\"sequentialminus\":[[0.0,\"#0d0887\"],[0.1111111111111111,\"#46039f\"],[0.2222222222222222,\"#7201a8\"],[0.3333333333333333,\"#9c179e\"],[0.4444444444444444,\"#bd3786\"],[0.5555555555555556,\"#d8576b\"],[0.6666666666666666,\"#ed7953\"],[0.7777777777777778,\"#fb9f3a\"],[0.8888888888888888,\"#fdca26\"],[1.0,\"#f0f921\"]]},\"colorway\":[\"#636efa\",\"#EF553B\",\"#00cc96\",\"#ab63fa\",\"#FFA15A\",\"#19d3f3\",\"#FF6692\",\"#B6E880\",\"#FF97FF\",\"#FECB52\"],\"font\":{\"color\":\"#2a3f5f\"},\"geo\":{\"bgcolor\":\"white\",\"lakecolor\":\"white\",\"landcolor\":\"#E5ECF6\",\"showlakes\":true,\"showland\":true,\"subunitcolor\":\"white\"},\"hoverlabel\":{\"align\":\"left\"},\"hovermode\":\"closest\",\"mapbox\":{\"style\":\"light\"},\"paper_bgcolor\":\"white\",\"plot_bgcolor\":\"#E5ECF6\",\"polar\":{\"angularaxis\":{\"gridcolor\":\"white\",\"linecolor\":\"white\",\"ticks\":\"\"},\"bgcolor\":\"#E5ECF6\",\"radialaxis\":{\"gridcolor\":\"white\",\"linecolor\":\"white\",\"ticks\":\"\"}},\"scene\":{\"xaxis\":{\"backgroundcolor\":\"#E5ECF6\",\"gridcolor\":\"white\",\"gridwidth\":2,\"linecolor\":\"white\",\"showbackground\":true,\"ticks\":\"\",\"zerolinecolor\":\"white\"},\"yaxis\":{\"backgroundcolor\":\"#E5ECF6\",\"gridcolor\":\"white\",\"gridwidth\":2,\"linecolor\":\"white\",\"showbackground\":true,\"ticks\":\"\",\"zerolinecolor\":\"white\"},\"zaxis\":{\"backgroundcolor\":\"#E5ECF6\",\"gridcolor\":\"white\",\"gridwidth\":2,\"linecolor\":\"white\",\"showbackground\":true,\"ticks\":\"\",\"zerolinecolor\":\"white\"}},\"shapedefaults\":{\"line\":{\"color\":\"#2a3f5f\"}},\"ternary\":{\"aaxis\":{\"gridcolor\":\"white\",\"linecolor\":\"white\",\"ticks\":\"\"},\"baxis\":{\"gridcolor\":\"white\",\"linecolor\":\"white\",\"ticks\":\"\"},\"bgcolor\":\"#E5ECF6\",\"caxis\":{\"gridcolor\":\"white\",\"linecolor\":\"white\",\"ticks\":\"\"}},\"title\":{\"x\":0.05},\"xaxis\":{\"automargin\":true,\"gridcolor\":\"white\",\"linecolor\":\"white\",\"ticks\":\"\",\"title\":{\"standoff\":15},\"zerolinecolor\":\"white\",\"zerolinewidth\":2},\"yaxis\":{\"automargin\":true,\"gridcolor\":\"white\",\"linecolor\":\"white\",\"ticks\":\"\",\"title\":{\"standoff\":15},\"zerolinecolor\":\"white\",\"zerolinewidth\":2}}},\"title\":{\"text\":\"Pearson Correlation of Numerical Features\"},\"width\":900,\"xaxis\":{\"nticks\":36,\"ticks\":\"\"},\"yaxis\":{\"ticks\":\"\"}},                        {\"responsive\": true}                    ).then(function(){\n",
       "                            \n",
       "var gd = document.getElementById('3153f63d-afc2-450b-bc5a-e31095269c53');\n",
       "var x = new MutationObserver(function (mutations, observer) {{\n",
       "        var display = window.getComputedStyle(gd).display;\n",
       "        if (!display || display === 'none') {{\n",
       "            console.log([gd, 'removed!']);\n",
       "            Plotly.purge(gd);\n",
       "            observer.disconnect();\n",
       "        }}\n",
       "}});\n",
       "\n",
       "// Listen for the removal of the full notebook cells\n",
       "var notebookContainer = gd.closest('#notebook-container');\n",
       "if (notebookContainer) {{\n",
       "    x.observe(notebookContainer, {childList: true});\n",
       "}}\n",
       "\n",
       "// Listen for the clearing of the current output cell\n",
       "var outputEl = gd.closest('.output');\n",
       "if (outputEl) {{\n",
       "    x.observe(outputEl, {childList: true});\n",
       "}}\n",
       "\n",
       "                        })                };            </script>        </div>"
      ]
     },
     "metadata": {},
     "output_type": "display_data"
    }
   ],
   "source": [
    "import pandas as pd\n",
    "import plotly.graph_objs as go\n",
    "import plotly.offline as py\n",
    "py.init_notebook_mode(connected=True)\n",
    "\n",
    "# Map the target\n",
    "target_map = {'Yes': 1, 'No': 0}\n",
    "attrition[\"Attrition_numerical\"] = attrition[\"Attrition\"].apply(lambda x: target_map[x])\n",
    "\n",
    "# Numerical features\n",
    "numerical = [u'Age', u'DailyRate', u'DistanceFromHome', \n",
    "             u'Education', u'EmployeeNumber', u'EnvironmentSatisfaction',\n",
    "             u'HourlyRate', u'JobInvolvement', u'JobLevel', u'JobSatisfaction',\n",
    "             u'MonthlyIncome', u'MonthlyRate', u'NumCompaniesWorked',\n",
    "             u'PercentSalaryHike', u'PerformanceRating', u'RelationshipSatisfaction',\n",
    "             u'StockOptionLevel', u'TotalWorkingYears',\n",
    "             u'TrainingTimesLastYear', u'WorkLifeBalance', u'YearsAtCompany',\n",
    "             u'YearsInCurrentRole', u'YearsSinceLastPromotion', u'YearsWithCurrManager']\n",
    "\n",
    "# Correlation heatmap\n",
    "data = [\n",
    "    go.Heatmap(\n",
    "        z=attrition[numerical].astype(float).corr().values,\n",
    "        x=attrition[numerical].columns.values,\n",
    "        y=attrition[numerical].columns.values,\n",
    "        colorscale='Viridis',\n",
    "        reversescale=False,\n",
    "        opacity=1.0\n",
    "    )\n",
    "]\n",
    "\n",
    "layout = go.Layout(\n",
    "    title='Pearson Correlation of Numerical Features',\n",
    "    xaxis=dict(ticks='', nticks=36),\n",
    "    yaxis=dict(ticks=''),\n",
    "    width=900,\n",
    "    height=700\n",
    ")\n",
    "\n",
    "fig = go.Figure(data=data, layout=layout)\n",
    "py.iplot(fig)\n"
   ]
  },
  {
   "cell_type": "code",
   "execution_count": 14,
   "id": "09d8d1c6-f090-4280-9851-e0c742c60f36",
   "metadata": {},
   "outputs": [],
   "source": [
    "# Safely drop 'Attrition_numerical' if it exists\n",
    "if 'Attrition_numerical' in attrition.columns:\n",
    "    attrition = attrition.drop(['Attrition_numerical'], axis=1)\n",
    "\n",
    "# Separate categorical and numerical columns\n",
    "categorical = [col for col in attrition.columns if attrition[col].dtype == 'object']\n",
    "numerical = [col for col in attrition.columns if col not in categorical]\n"
   ]
  },
  {
   "cell_type": "code",
   "execution_count": 15,
   "id": "a872b6f7-44f3-41d6-88b2-ee8ae0ba32ed",
   "metadata": {},
   "outputs": [
    {
     "name": "stdout",
     "output_type": "stream",
     "text": [
      "Final feature shape: (1470, 55)\n",
      "Target distribution:\n",
      " Attrition\n",
      "0    1233\n",
      "1     237\n",
      "Name: count, dtype: int64\n"
     ]
    }
   ],
   "source": [
    "import pandas as pd\n",
    "\n",
    "# Safely drop 'Attrition_numerical' if it exists\n",
    "if 'Attrition_numerical' in attrition.columns:\n",
    "    attrition = attrition.drop(['Attrition_numerical'], axis=1)\n",
    "\n",
    "# Separate categorical and numerical columns\n",
    "categorical = [col for col in attrition.columns if attrition[col].dtype == 'object']\n",
    "numerical = [col for col in attrition.columns if col not in categorical]\n",
    "\n",
    "# Extract and encode the target variable\n",
    "attrition_target = attrition['Attrition'].map({'Yes': 1, 'No': 0})\n",
    "\n",
    "# One-hot encode categorical features (excluding target)\n",
    "attrition_cat = attrition[categorical].drop(['Attrition'], axis=1)\n",
    "attrition_cat = pd.get_dummies(attrition_cat)\n",
    "\n",
    "# Extract numerical features\n",
    "attrition_num = attrition[numerical]\n",
    "\n",
    "# Final feature matrix\n",
    "attrition_final = pd.concat([attrition_num, attrition_cat], axis=1)\n",
    "\n",
    "# Preview\n",
    "print(\"Final feature shape:\", attrition_final.shape)\n",
    "print(\"Target distribution:\\n\", attrition_target.value_counts())\n"
   ]
  },
  {
   "cell_type": "code",
   "execution_count": 16,
   "id": "857df30d-cdc6-46f0-ba72-81ccf42a46b3",
   "metadata": {},
   "outputs": [],
   "source": [
    "target_map = {'Yes':1, 'No':0}\n",
    "# Use the pandas apply method to numerically encode our attrition target variable\n",
    "target = attrition[\"Attrition\"].apply(lambda x: target_map[x])"
   ]
  },
  {
   "cell_type": "code",
   "execution_count": 18,
   "id": "3c0e4ebf-08eb-40ec-b933-a6f79785222c",
   "metadata": {},
   "outputs": [
    {
     "name": "stdout",
     "output_type": "stream",
     "text": [
      "X_train shape: (1176, 55)\n",
      "X_test shape: (294, 55)\n",
      "Target distribution in y_train:\n",
      " Attrition\n",
      "0    0.838435\n",
      "1    0.161565\n",
      "Name: proportion, dtype: float64\n"
     ]
    }
   ],
   "source": [
    "import pandas as pd\n",
    "from sklearn.model_selection import train_test_split\n",
    "\n",
    "# Step 1: Safely drop 'Attrition_numerical' if it exists\n",
    "if 'Attrition_numerical' in attrition.columns:\n",
    "    attrition = attrition.drop(['Attrition_numerical'], axis=1)\n",
    "\n",
    "# Step 2: Separate categorical and numerical columns\n",
    "categorical = [col for col in attrition.columns if attrition[col].dtype == 'object']\n",
    "numerical = [col for col in attrition.columns if col not in categorical]\n",
    "\n",
    "# Step 3: Extract and encode the target variable\n",
    "attrition_target = attrition['Attrition'].map({'Yes': 1, 'No': 0})\n",
    "\n",
    "# Step 4: One-hot encode categorical features (excluding target)\n",
    "attrition_cat = attrition[categorical].drop(['Attrition'], axis=1)\n",
    "attrition_cat = pd.get_dummies(attrition_cat)\n",
    "\n",
    "# Step 5: Extract numerical features\n",
    "attrition_num = attrition[numerical]\n",
    "\n",
    "# Step 6: Final feature matrix\n",
    "attrition_final = pd.concat([attrition_num, attrition_cat], axis=1)\n",
    "\n",
    "# Step 7: Train-test split (stratified)\n",
    "X_train, X_test, y_train, y_test = train_test_split(\n",
    "    attrition_final,\n",
    "    attrition_target,\n",
    "    train_size=0.80,\n",
    "    random_state=0,\n",
    "    stratify=attrition_target\n",
    ")\n",
    "\n",
    "# Optional preview\n",
    "print(\"X_train shape:\", X_train.shape)\n",
    "print(\"X_test shape:\", X_test.shape)\n",
    "print(\"Target distribution in y_train:\\n\", y_train.value_counts(normalize=True))\n"
   ]
  },
  {
   "cell_type": "code",
   "execution_count": 21,
   "id": "de6005a8-a593-4f9c-a574-4621dfb3c698",
   "metadata": {},
   "outputs": [
    {
     "name": "stdout",
     "output_type": "stream",
     "text": [
      "Accuracy score: 0.8605\n",
      "================================================================================\n",
      "              precision    recall  f1-score   support\n",
      "\n",
      "           0       0.88      0.97      0.92       247\n",
      "           1       0.64      0.30      0.41        47\n",
      "\n",
      "    accuracy                           0.86       294\n",
      "   macro avg       0.76      0.63      0.66       294\n",
      "weighted avg       0.84      0.86      0.84       294\n",
      "\n"
     ]
    }
   ],
   "source": [
    "from imblearn.over_sampling import SMOTE\n",
    "from sklearn.ensemble import RandomForestClassifier\n",
    "from sklearn.metrics import accuracy_score, classification_report\n",
    "\n",
    "# Step 1: Apply SMOTE to balance classes in training data\n",
    "oversampler = SMOTE(random_state=0)\n",
    "smote_train, smote_target = oversampler.fit_resample(X_train, y_train)\n",
    "\n",
    "# Step 2: Define Random Forest parameters\n",
    "seed = 0\n",
    "rf_params = {\n",
    "    'n_jobs': -1,\n",
    "    'n_estimators': 1000,\n",
    "    'max_depth': 4,\n",
    "    'min_samples_leaf': 2,\n",
    "    'max_features': 'sqrt',\n",
    "    'random_state': seed,\n",
    "    'verbose': 0\n",
    "}\n",
    "\n",
    "# Step 3: Train the model\n",
    "rf = RandomForestClassifier(**rf_params)\n",
    "rf.fit(smote_train, smote_target)\n",
    "\n",
    "# Step 4: Predict on test data\n",
    "rf_predictions = rf.predict(X_test)\n",
    "\n",
    "# Step 5: Evaluate performance\n",
    "print(\"Accuracy score: {:.4f}\".format(accuracy_score(y_test, rf_predictions)))\n",
    "print(\"=\" * 80)\n",
    "print(classification_report(y_test, rf_predictions))\n",
    "\n"
   ]
  },
  {
   "cell_type": "code",
   "execution_count": 22,
   "id": "bbab82bb-c6c3-42dc-817c-42cae42ccd2c",
   "metadata": {},
   "outputs": [
    {
     "data": {
      "text/html": [
       "        <script type=\"text/javascript\">\n",
       "        window.PlotlyConfig = {MathJaxConfig: 'local'};\n",
       "        if (window.MathJax && window.MathJax.Hub && window.MathJax.Hub.Config) {window.MathJax.Hub.Config({SVG: {font: \"STIX-Web\"}});}\n",
       "        </script>\n",
       "        <script type=\"module\">import \"https://cdn.plot.ly/plotly-3.0.1.min\"</script>\n",
       "        "
      ]
     },
     "metadata": {},
     "output_type": "display_data"
    },
    {
     "data": {
      "application/vnd.plotly.v1+json": {
       "config": {
        "linkText": "Export to plot.ly",
        "plotlyServerURL": "https://plot.ly",
        "showLink": false
       },
       "data": [
        {
         "marker": {
          "color": {
           "_inputArray": {
            "0": 0.022308857073198986,
            "1": 0.004716405646714531,
            "10": 0.05989935636607178,
            "11": 0.0398558609916575,
            "12": 0.004842523497991401,
            "13": 0.0024003745116557406,
            "14": 0.003380509238099897,
            "15": 0.0022661011958237803,
            "16": 0.013360127473177219,
            "17": 0,
            "18": 0.0881429746958057,
            "19": 0.029435992913087728,
            "2": 0.006690552782623022,
            "20": 0.009891634724789355,
            "21": 0.014907166791020483,
            "22": 0.020216009854957494,
            "23": 0.02237400701302581,
            "24": 0.00261352449857659,
            "25": 0.018162315086235163,
            "26": 0.010077552976443685,
            "27": 0.0021958315355349763,
            "28": 0.03566061296523972,
            "29": 0.001099405105730976,
            "3": 0.013582091081057327,
            "30": 0.0481843909057479,
            "31": 0.007087825131354641,
            "32": 0.00012911573894759312,
            "33": 0.03040219664305639,
            "34": 0.0009806434039199032,
            "35": 0.03252038344437497,
            "36": 0.0009562721193099995,
            "37": 0.00045930190002514405,
            "38": 0.008071332522125715,
            "39": 0.006017225286743469,
            "4": 0,
            "40": 0.002124454057987121,
            "41": 0.0007469823164364764,
            "42": 0.0009341353963571536,
            "43": 0.001521560310069451,
            "44": 0.004735213042107164,
            "45": 0.0011009632921912356,
            "46": 0.006604008636764385,
            "47": 0.0031650155765771573,
            "48": 0.0003218493530675223,
            "49": 0.023412196285938883,
            "5": 0.004500310537026064,
            "50": 0.05830273000964986,
            "51": 0.005738891370466969,
            "52": 0,
            "53": 0.21312591483441454,
            "54": 0.012438289287385846,
            "6": 0.021579926709733452,
            "7": 0.004187880786291463,
            "8": 0.03368871457043493,
            "9": 0.038882488512975544,
            "bdata": "J4ApDiLYlj+q7x2AglFzP63jS5aNZ3s/9RQJaO3Qiz8AAAAAAAAAABkCQenqbnI/jJ/fXQwZlj9LRkSwTydxPzgKpq6lP6E/SMQZ0Wfooz+tlknhIKuuP+CzBsf8Z6Q/8h7dAMHVcz/cpNJA86ljP24K4xNxsWs/oM/Q0FuQYj+gn4r0jVyLPwAAAAAAAAAA2s2wuYmQtj+dSYwLeCSePzPzLL0QQoQ/12K/DqaHjj82Crt0gbOUP/oNmzE26ZY/YzL1R/VoZT+OlkJVJJmSPxsHqUOKo4Q/aKc+FP78YT8jzeGcG0KiP/rMWD49A1I/Elk83p+rqD8AFDmSHwh9P36BmsBn7CA/U+Q74cAhnz8L9FPWHRFQPximsf6CpqA/d+o/vcpVTz/LvLyjzhk+P17Kvemzh4A/N44bnYSleD8T2W2WTWdhP1IdVU8kekg/Vx0bfRicTj8QKlLx4u1YP72xfBI7ZXM/LDRhVcYJUj+f4+ARzgx7P2c9kcyE7Wk/QgUXcrwXNT/Rp4DlXfmXP7hjUf3a2a0/zPIF7KmBdz8AAAAAAAAAAAtrEsG1R8s/qvqo7T55iT8=",
            "dtype": "f8",
            "shape": "55"
           },
           "bdata": "J4ApDiLYlj+q7x2AglFzP63jS5aNZ3s/9RQJaO3Qiz8AAAAAAAAAABkCQenqbnI/jJ/fXQwZlj9LRkSwTydxPzgKpq6lP6E/SMQZ0Wfooz+tlknhIKuuP+CzBsf8Z6Q/8h7dAMHVcz/cpNJA86ljP24K4xNxsWs/oM/Q0FuQYj+gn4r0jVyLPwAAAAAAAAAA2s2wuYmQtj+dSYwLeCSePzPzLL0QQoQ/12K/DqaHjj82Crt0gbOUP/oNmzE26ZY/YzL1R/VoZT+OlkJVJJmSPxsHqUOKo4Q/aKc+FP78YT8jzeGcG0KiP/rMWD49A1I/Elk83p+rqD8AFDmSHwh9P36BmsBn7CA/U+Q74cAhnz8L9FPWHRFQPximsf6CpqA/d+o/vcpVTz/LvLyjzhk+P17Kvemzh4A/N44bnYSleD8T2W2WTWdhP1IdVU8kekg/Vx0bfRicTj8QKlLx4u1YP72xfBI7ZXM/LDRhVcYJUj+f4+ARzgx7P2c9kcyE7Wk/QgUXcrwXNT/Rp4DlXfmXP7hjUf3a2a0/zPIF7KmBdz8AAAAAAAAAAAtrEsG1R8s/qvqo7T55iT8=",
           "dtype": "f8"
          },
          "colorscale": [
           [
            0,
            "rgb(12,51,131)"
           ],
           [
            0.25,
            "rgb(10,136,186)"
           ],
           [
            0.5,
            "rgb(242,211,56)"
           ],
           [
            0.75,
            "rgb(242,143,56)"
           ],
           [
            1,
            "rgb(217,30,30)"
           ]
          ],
          "showscale": true,
          "size": 13,
          "sizemode": "diameter",
          "sizeref": 1
         },
         "mode": "markers",
         "text": [
          "Age",
          "DailyRate",
          "DistanceFromHome",
          "Education",
          "EmployeeCount",
          "EmployeeNumber",
          "EnvironmentSatisfaction",
          "HourlyRate",
          "JobInvolvement",
          "JobLevel",
          "JobSatisfaction",
          "MonthlyIncome",
          "MonthlyRate",
          "NumCompaniesWorked",
          "PercentSalaryHike",
          "PerformanceRating",
          "RelationshipSatisfaction",
          "StandardHours",
          "StockOptionLevel",
          "TotalWorkingYears",
          "TrainingTimesLastYear",
          "WorkLifeBalance",
          "YearsAtCompany",
          "YearsInCurrentRole",
          "YearsSinceLastPromotion",
          "YearsWithCurrManager",
          "BusinessTravel_Non-Travel",
          "BusinessTravel_Travel_Frequently",
          "BusinessTravel_Travel_Rarely",
          "Department_Human Resources",
          "Department_Research & Development",
          "Department_Sales",
          "EducationField_Human Resources",
          "EducationField_Life Sciences",
          "EducationField_Marketing",
          "EducationField_Medical",
          "EducationField_Other",
          "EducationField_Technical Degree",
          "Gender_Female",
          "Gender_Male",
          "JobRole_Healthcare Representative",
          "JobRole_Human Resources",
          "JobRole_Laboratory Technician",
          "JobRole_Manager",
          "JobRole_Manufacturing Director",
          "JobRole_Research Director",
          "JobRole_Research Scientist",
          "JobRole_Sales Executive",
          "JobRole_Sales Representative",
          "MaritalStatus_Divorced",
          "MaritalStatus_Married",
          "MaritalStatus_Single",
          "Over18_Y",
          "OverTime_No",
          "OverTime_Yes"
         ],
         "type": "scatter",
         "x": [
          "Age",
          "DailyRate",
          "DistanceFromHome",
          "Education",
          "EmployeeCount",
          "EmployeeNumber",
          "EnvironmentSatisfaction",
          "HourlyRate",
          "JobInvolvement",
          "JobLevel",
          "JobSatisfaction",
          "MonthlyIncome",
          "MonthlyRate",
          "NumCompaniesWorked",
          "PercentSalaryHike",
          "PerformanceRating",
          "RelationshipSatisfaction",
          "StandardHours",
          "StockOptionLevel",
          "TotalWorkingYears",
          "TrainingTimesLastYear",
          "WorkLifeBalance",
          "YearsAtCompany",
          "YearsInCurrentRole",
          "YearsSinceLastPromotion",
          "YearsWithCurrManager",
          "BusinessTravel_Non-Travel",
          "BusinessTravel_Travel_Frequently",
          "BusinessTravel_Travel_Rarely",
          "Department_Human Resources",
          "Department_Research & Development",
          "Department_Sales",
          "EducationField_Human Resources",
          "EducationField_Life Sciences",
          "EducationField_Marketing",
          "EducationField_Medical",
          "EducationField_Other",
          "EducationField_Technical Degree",
          "Gender_Female",
          "Gender_Male",
          "JobRole_Healthcare Representative",
          "JobRole_Human Resources",
          "JobRole_Laboratory Technician",
          "JobRole_Manager",
          "JobRole_Manufacturing Director",
          "JobRole_Research Director",
          "JobRole_Research Scientist",
          "JobRole_Sales Executive",
          "JobRole_Sales Representative",
          "MaritalStatus_Divorced",
          "MaritalStatus_Married",
          "MaritalStatus_Single",
          "Over18_Y",
          "OverTime_No",
          "OverTime_Yes"
         ],
         "y": {
          "_inputArray": {
           "0": 0.022308857073198986,
           "1": 0.004716405646714531,
           "10": 0.05989935636607178,
           "11": 0.0398558609916575,
           "12": 0.004842523497991401,
           "13": 0.0024003745116557406,
           "14": 0.003380509238099897,
           "15": 0.0022661011958237803,
           "16": 0.013360127473177219,
           "17": 0,
           "18": 0.0881429746958057,
           "19": 0.029435992913087728,
           "2": 0.006690552782623022,
           "20": 0.009891634724789355,
           "21": 0.014907166791020483,
           "22": 0.020216009854957494,
           "23": 0.02237400701302581,
           "24": 0.00261352449857659,
           "25": 0.018162315086235163,
           "26": 0.010077552976443685,
           "27": 0.0021958315355349763,
           "28": 0.03566061296523972,
           "29": 0.001099405105730976,
           "3": 0.013582091081057327,
           "30": 0.0481843909057479,
           "31": 0.007087825131354641,
           "32": 0.00012911573894759312,
           "33": 0.03040219664305639,
           "34": 0.0009806434039199032,
           "35": 0.03252038344437497,
           "36": 0.0009562721193099995,
           "37": 0.00045930190002514405,
           "38": 0.008071332522125715,
           "39": 0.006017225286743469,
           "4": 0,
           "40": 0.002124454057987121,
           "41": 0.0007469823164364764,
           "42": 0.0009341353963571536,
           "43": 0.001521560310069451,
           "44": 0.004735213042107164,
           "45": 0.0011009632921912356,
           "46": 0.006604008636764385,
           "47": 0.0031650155765771573,
           "48": 0.0003218493530675223,
           "49": 0.023412196285938883,
           "5": 0.004500310537026064,
           "50": 0.05830273000964986,
           "51": 0.005738891370466969,
           "52": 0,
           "53": 0.21312591483441454,
           "54": 0.012438289287385846,
           "6": 0.021579926709733452,
           "7": 0.004187880786291463,
           "8": 0.03368871457043493,
           "9": 0.038882488512975544,
           "bdata": "J4ApDiLYlj+q7x2AglFzP63jS5aNZ3s/9RQJaO3Qiz8AAAAAAAAAABkCQenqbnI/jJ/fXQwZlj9LRkSwTydxPzgKpq6lP6E/SMQZ0Wfooz+tlknhIKuuP+CzBsf8Z6Q/8h7dAMHVcz/cpNJA86ljP24K4xNxsWs/oM/Q0FuQYj+gn4r0jVyLPwAAAAAAAAAA2s2wuYmQtj+dSYwLeCSePzPzLL0QQoQ/12K/DqaHjj82Crt0gbOUP/oNmzE26ZY/YzL1R/VoZT+OlkJVJJmSPxsHqUOKo4Q/aKc+FP78YT8jzeGcG0KiP/rMWD49A1I/Elk83p+rqD8AFDmSHwh9P36BmsBn7CA/U+Q74cAhnz8L9FPWHRFQPximsf6CpqA/d+o/vcpVTz/LvLyjzhk+P17Kvemzh4A/N44bnYSleD8T2W2WTWdhP1IdVU8kekg/Vx0bfRicTj8QKlLx4u1YP72xfBI7ZXM/LDRhVcYJUj+f4+ARzgx7P2c9kcyE7Wk/QgUXcrwXNT/Rp4DlXfmXP7hjUf3a2a0/zPIF7KmBdz8AAAAAAAAAAAtrEsG1R8s/qvqo7T55iT8=",
           "dtype": "f8",
           "shape": "55"
          },
          "bdata": "J4ApDiLYlj+q7x2AglFzP63jS5aNZ3s/9RQJaO3Qiz8AAAAAAAAAABkCQenqbnI/jJ/fXQwZlj9LRkSwTydxPzgKpq6lP6E/SMQZ0Wfooz+tlknhIKuuP+CzBsf8Z6Q/8h7dAMHVcz/cpNJA86ljP24K4xNxsWs/oM/Q0FuQYj+gn4r0jVyLPwAAAAAAAAAA2s2wuYmQtj+dSYwLeCSePzPzLL0QQoQ/12K/DqaHjj82Crt0gbOUP/oNmzE26ZY/YzL1R/VoZT+OlkJVJJmSPxsHqUOKo4Q/aKc+FP78YT8jzeGcG0KiP/rMWD49A1I/Elk83p+rqD8AFDmSHwh9P36BmsBn7CA/U+Q74cAhnz8L9FPWHRFQPximsf6CpqA/d+o/vcpVTz/LvLyjzhk+P17Kvemzh4A/N44bnYSleD8T2W2WTWdhP1IdVU8kekg/Vx0bfRicTj8QKlLx4u1YP72xfBI7ZXM/LDRhVcYJUj+f4+ARzgx7P2c9kcyE7Wk/QgUXcrwXNT/Rp4DlXfmXP7hjUf3a2a0/zPIF7KmBdz8AAAAAAAAAAAtrEsG1R8s/qvqo7T55iT8=",
          "dtype": "f8"
         }
        }
       ],
       "layout": {
        "autosize": true,
        "hovermode": "closest",
        "showlegend": false,
        "template": {
         "data": {
          "bar": [
           {
            "error_x": {
             "color": "#2a3f5f"
            },
            "error_y": {
             "color": "#2a3f5f"
            },
            "marker": {
             "line": {
              "color": "#E5ECF6",
              "width": 0.5
             },
             "pattern": {
              "fillmode": "overlay",
              "size": 10,
              "solidity": 0.2
             }
            },
            "type": "bar"
           }
          ],
          "barpolar": [
           {
            "marker": {
             "line": {
              "color": "#E5ECF6",
              "width": 0.5
             },
             "pattern": {
              "fillmode": "overlay",
              "size": 10,
              "solidity": 0.2
             }
            },
            "type": "barpolar"
           }
          ],
          "carpet": [
           {
            "aaxis": {
             "endlinecolor": "#2a3f5f",
             "gridcolor": "white",
             "linecolor": "white",
             "minorgridcolor": "white",
             "startlinecolor": "#2a3f5f"
            },
            "baxis": {
             "endlinecolor": "#2a3f5f",
             "gridcolor": "white",
             "linecolor": "white",
             "minorgridcolor": "white",
             "startlinecolor": "#2a3f5f"
            },
            "type": "carpet"
           }
          ],
          "choropleth": [
           {
            "colorbar": {
             "outlinewidth": 0,
             "ticks": ""
            },
            "type": "choropleth"
           }
          ],
          "contour": [
           {
            "colorbar": {
             "outlinewidth": 0,
             "ticks": ""
            },
            "colorscale": [
             [
              0,
              "#0d0887"
             ],
             [
              0.1111111111111111,
              "#46039f"
             ],
             [
              0.2222222222222222,
              "#7201a8"
             ],
             [
              0.3333333333333333,
              "#9c179e"
             ],
             [
              0.4444444444444444,
              "#bd3786"
             ],
             [
              0.5555555555555556,
              "#d8576b"
             ],
             [
              0.6666666666666666,
              "#ed7953"
             ],
             [
              0.7777777777777778,
              "#fb9f3a"
             ],
             [
              0.8888888888888888,
              "#fdca26"
             ],
             [
              1,
              "#f0f921"
             ]
            ],
            "type": "contour"
           }
          ],
          "contourcarpet": [
           {
            "colorbar": {
             "outlinewidth": 0,
             "ticks": ""
            },
            "type": "contourcarpet"
           }
          ],
          "heatmap": [
           {
            "colorbar": {
             "outlinewidth": 0,
             "ticks": ""
            },
            "colorscale": [
             [
              0,
              "#0d0887"
             ],
             [
              0.1111111111111111,
              "#46039f"
             ],
             [
              0.2222222222222222,
              "#7201a8"
             ],
             [
              0.3333333333333333,
              "#9c179e"
             ],
             [
              0.4444444444444444,
              "#bd3786"
             ],
             [
              0.5555555555555556,
              "#d8576b"
             ],
             [
              0.6666666666666666,
              "#ed7953"
             ],
             [
              0.7777777777777778,
              "#fb9f3a"
             ],
             [
              0.8888888888888888,
              "#fdca26"
             ],
             [
              1,
              "#f0f921"
             ]
            ],
            "type": "heatmap"
           }
          ],
          "histogram": [
           {
            "marker": {
             "pattern": {
              "fillmode": "overlay",
              "size": 10,
              "solidity": 0.2
             }
            },
            "type": "histogram"
           }
          ],
          "histogram2d": [
           {
            "colorbar": {
             "outlinewidth": 0,
             "ticks": ""
            },
            "colorscale": [
             [
              0,
              "#0d0887"
             ],
             [
              0.1111111111111111,
              "#46039f"
             ],
             [
              0.2222222222222222,
              "#7201a8"
             ],
             [
              0.3333333333333333,
              "#9c179e"
             ],
             [
              0.4444444444444444,
              "#bd3786"
             ],
             [
              0.5555555555555556,
              "#d8576b"
             ],
             [
              0.6666666666666666,
              "#ed7953"
             ],
             [
              0.7777777777777778,
              "#fb9f3a"
             ],
             [
              0.8888888888888888,
              "#fdca26"
             ],
             [
              1,
              "#f0f921"
             ]
            ],
            "type": "histogram2d"
           }
          ],
          "histogram2dcontour": [
           {
            "colorbar": {
             "outlinewidth": 0,
             "ticks": ""
            },
            "colorscale": [
             [
              0,
              "#0d0887"
             ],
             [
              0.1111111111111111,
              "#46039f"
             ],
             [
              0.2222222222222222,
              "#7201a8"
             ],
             [
              0.3333333333333333,
              "#9c179e"
             ],
             [
              0.4444444444444444,
              "#bd3786"
             ],
             [
              0.5555555555555556,
              "#d8576b"
             ],
             [
              0.6666666666666666,
              "#ed7953"
             ],
             [
              0.7777777777777778,
              "#fb9f3a"
             ],
             [
              0.8888888888888888,
              "#fdca26"
             ],
             [
              1,
              "#f0f921"
             ]
            ],
            "type": "histogram2dcontour"
           }
          ],
          "mesh3d": [
           {
            "colorbar": {
             "outlinewidth": 0,
             "ticks": ""
            },
            "type": "mesh3d"
           }
          ],
          "parcoords": [
           {
            "line": {
             "colorbar": {
              "outlinewidth": 0,
              "ticks": ""
             }
            },
            "type": "parcoords"
           }
          ],
          "pie": [
           {
            "automargin": true,
            "type": "pie"
           }
          ],
          "scatter": [
           {
            "fillpattern": {
             "fillmode": "overlay",
             "size": 10,
             "solidity": 0.2
            },
            "type": "scatter"
           }
          ],
          "scatter3d": [
           {
            "line": {
             "colorbar": {
              "outlinewidth": 0,
              "ticks": ""
             }
            },
            "marker": {
             "colorbar": {
              "outlinewidth": 0,
              "ticks": ""
             }
            },
            "type": "scatter3d"
           }
          ],
          "scattercarpet": [
           {
            "marker": {
             "colorbar": {
              "outlinewidth": 0,
              "ticks": ""
             }
            },
            "type": "scattercarpet"
           }
          ],
          "scattergeo": [
           {
            "marker": {
             "colorbar": {
              "outlinewidth": 0,
              "ticks": ""
             }
            },
            "type": "scattergeo"
           }
          ],
          "scattergl": [
           {
            "marker": {
             "colorbar": {
              "outlinewidth": 0,
              "ticks": ""
             }
            },
            "type": "scattergl"
           }
          ],
          "scattermap": [
           {
            "marker": {
             "colorbar": {
              "outlinewidth": 0,
              "ticks": ""
             }
            },
            "type": "scattermap"
           }
          ],
          "scattermapbox": [
           {
            "marker": {
             "colorbar": {
              "outlinewidth": 0,
              "ticks": ""
             }
            },
            "type": "scattermapbox"
           }
          ],
          "scatterpolar": [
           {
            "marker": {
             "colorbar": {
              "outlinewidth": 0,
              "ticks": ""
             }
            },
            "type": "scatterpolar"
           }
          ],
          "scatterpolargl": [
           {
            "marker": {
             "colorbar": {
              "outlinewidth": 0,
              "ticks": ""
             }
            },
            "type": "scatterpolargl"
           }
          ],
          "scatterternary": [
           {
            "marker": {
             "colorbar": {
              "outlinewidth": 0,
              "ticks": ""
             }
            },
            "type": "scatterternary"
           }
          ],
          "surface": [
           {
            "colorbar": {
             "outlinewidth": 0,
             "ticks": ""
            },
            "colorscale": [
             [
              0,
              "#0d0887"
             ],
             [
              0.1111111111111111,
              "#46039f"
             ],
             [
              0.2222222222222222,
              "#7201a8"
             ],
             [
              0.3333333333333333,
              "#9c179e"
             ],
             [
              0.4444444444444444,
              "#bd3786"
             ],
             [
              0.5555555555555556,
              "#d8576b"
             ],
             [
              0.6666666666666666,
              "#ed7953"
             ],
             [
              0.7777777777777778,
              "#fb9f3a"
             ],
             [
              0.8888888888888888,
              "#fdca26"
             ],
             [
              1,
              "#f0f921"
             ]
            ],
            "type": "surface"
           }
          ],
          "table": [
           {
            "cells": {
             "fill": {
              "color": "#EBF0F8"
             },
             "line": {
              "color": "white"
             }
            },
            "header": {
             "fill": {
              "color": "#C8D4E3"
             },
             "line": {
              "color": "white"
             }
            },
            "type": "table"
           }
          ]
         },
         "layout": {
          "annotationdefaults": {
           "arrowcolor": "#2a3f5f",
           "arrowhead": 0,
           "arrowwidth": 1
          },
          "autotypenumbers": "strict",
          "coloraxis": {
           "colorbar": {
            "outlinewidth": 0,
            "ticks": ""
           }
          },
          "colorscale": {
           "diverging": [
            [
             0,
             "#8e0152"
            ],
            [
             0.1,
             "#c51b7d"
            ],
            [
             0.2,
             "#de77ae"
            ],
            [
             0.3,
             "#f1b6da"
            ],
            [
             0.4,
             "#fde0ef"
            ],
            [
             0.5,
             "#f7f7f7"
            ],
            [
             0.6,
             "#e6f5d0"
            ],
            [
             0.7,
             "#b8e186"
            ],
            [
             0.8,
             "#7fbc41"
            ],
            [
             0.9,
             "#4d9221"
            ],
            [
             1,
             "#276419"
            ]
           ],
           "sequential": [
            [
             0,
             "#0d0887"
            ],
            [
             0.1111111111111111,
             "#46039f"
            ],
            [
             0.2222222222222222,
             "#7201a8"
            ],
            [
             0.3333333333333333,
             "#9c179e"
            ],
            [
             0.4444444444444444,
             "#bd3786"
            ],
            [
             0.5555555555555556,
             "#d8576b"
            ],
            [
             0.6666666666666666,
             "#ed7953"
            ],
            [
             0.7777777777777778,
             "#fb9f3a"
            ],
            [
             0.8888888888888888,
             "#fdca26"
            ],
            [
             1,
             "#f0f921"
            ]
           ],
           "sequentialminus": [
            [
             0,
             "#0d0887"
            ],
            [
             0.1111111111111111,
             "#46039f"
            ],
            [
             0.2222222222222222,
             "#7201a8"
            ],
            [
             0.3333333333333333,
             "#9c179e"
            ],
            [
             0.4444444444444444,
             "#bd3786"
            ],
            [
             0.5555555555555556,
             "#d8576b"
            ],
            [
             0.6666666666666666,
             "#ed7953"
            ],
            [
             0.7777777777777778,
             "#fb9f3a"
            ],
            [
             0.8888888888888888,
             "#fdca26"
            ],
            [
             1,
             "#f0f921"
            ]
           ]
          },
          "colorway": [
           "#636efa",
           "#EF553B",
           "#00cc96",
           "#ab63fa",
           "#FFA15A",
           "#19d3f3",
           "#FF6692",
           "#B6E880",
           "#FF97FF",
           "#FECB52"
          ],
          "font": {
           "color": "#2a3f5f"
          },
          "geo": {
           "bgcolor": "white",
           "lakecolor": "white",
           "landcolor": "#E5ECF6",
           "showlakes": true,
           "showland": true,
           "subunitcolor": "white"
          },
          "hoverlabel": {
           "align": "left"
          },
          "hovermode": "closest",
          "mapbox": {
           "style": "light"
          },
          "paper_bgcolor": "white",
          "plot_bgcolor": "#E5ECF6",
          "polar": {
           "angularaxis": {
            "gridcolor": "white",
            "linecolor": "white",
            "ticks": ""
           },
           "bgcolor": "#E5ECF6",
           "radialaxis": {
            "gridcolor": "white",
            "linecolor": "white",
            "ticks": ""
           }
          },
          "scene": {
           "xaxis": {
            "backgroundcolor": "#E5ECF6",
            "gridcolor": "white",
            "gridwidth": 2,
            "linecolor": "white",
            "showbackground": true,
            "ticks": "",
            "zerolinecolor": "white"
           },
           "yaxis": {
            "backgroundcolor": "#E5ECF6",
            "gridcolor": "white",
            "gridwidth": 2,
            "linecolor": "white",
            "showbackground": true,
            "ticks": "",
            "zerolinecolor": "white"
           },
           "zaxis": {
            "backgroundcolor": "#E5ECF6",
            "gridcolor": "white",
            "gridwidth": 2,
            "linecolor": "white",
            "showbackground": true,
            "ticks": "",
            "zerolinecolor": "white"
           }
          },
          "shapedefaults": {
           "line": {
            "color": "#2a3f5f"
           }
          },
          "ternary": {
           "aaxis": {
            "gridcolor": "white",
            "linecolor": "white",
            "ticks": ""
           },
           "baxis": {
            "gridcolor": "white",
            "linecolor": "white",
            "ticks": ""
           },
           "bgcolor": "#E5ECF6",
           "caxis": {
            "gridcolor": "white",
            "linecolor": "white",
            "ticks": ""
           }
          },
          "title": {
           "x": 0.05
          },
          "xaxis": {
           "automargin": true,
           "gridcolor": "white",
           "linecolor": "white",
           "ticks": "",
           "title": {
            "standoff": 15
           },
           "zerolinecolor": "white",
           "zerolinewidth": 2
          },
          "yaxis": {
           "automargin": true,
           "gridcolor": "white",
           "linecolor": "white",
           "ticks": "",
           "title": {
            "standoff": 15
           },
           "zerolinecolor": "white",
           "zerolinewidth": 2
          }
         }
        },
        "title": {
         "text": "Random Forest Feature Importance"
        },
        "xaxis": {
         "autorange": true,
         "range": [
          -3.604576176598252,
          57.60457617659825
         ],
         "showgrid": false,
         "showline": false,
         "ticklen": 5,
         "type": "category",
         "zeroline": false
        },
        "yaxis": {
         "autorange": true,
         "gridwidth": 2,
         "range": [
          -0.05837124511486686,
          0.2714971599492814
         ],
         "showgrid": false,
         "ticklen": 5,
         "title": {
          "text": "Feature Importance"
         },
         "type": "linear",
         "zeroline": false
        }
       }
      },
      "image/png": "[encoded data removed]",
      "text/html": [
       "<div>            <script src=\"https://cdnjs.cloudflare.com/ajax/libs/mathjax/2.7.5/MathJax.js?config=TeX-AMS-MML_SVG\"></script><script type=\"text/javascript\">if (window.MathJax && window.MathJax.Hub && window.MathJax.Hub.Config) {window.MathJax.Hub.Config({SVG: {font: \"STIX-Web\"}});}</script>                <script type=\"text/javascript\">window.PlotlyConfig = {MathJaxConfig: 'local'};</script>\n",
       "        <script charset=\"utf-8\" src=\"https://cdn.plot.ly/plotly-3.0.1.min.js\"></script>                <div id=\"f87b013a-0f74-4ea5-ae3c-d0dd8ca7b4ec\" class=\"plotly-graph-div\" style=\"height:525px; width:100%;\"></div>            <script type=\"text/javascript\">                window.PLOTLYENV=window.PLOTLYENV || {};                                if (document.getElementById(\"f87b013a-0f74-4ea5-ae3c-d0dd8ca7b4ec\")) {                    Plotly.newPlot(                        \"f87b013a-0f74-4ea5-ae3c-d0dd8ca7b4ec\",                        [{\"marker\":{\"color\":{\"dtype\":\"f8\",\"bdata\":\"J4ApDiLYlj+q7x2AglFzP63jS5aNZ3s\\u002f9RQJaO3Qiz8AAAAAAAAAABkCQenqbnI\\u002fjJ\\u002ffXQwZlj9LRkSwTydxPzgKpq6lP6E\\u002fSMQZ0Wfooz+tlknhIKuuP+CzBsf8Z6Q\\u002f8h7dAMHVcz\\u002fcpNJA86ljP24K4xNxsWs\\u002foM\\u002fQ0FuQYj+gn4r0jVyLPwAAAAAAAAAA2s2wuYmQtj+dSYwLeCSePzPzLL0QQoQ\\u002f12K\\u002fDqaHjj82Crt0gbOUP\\u002foNmzE26ZY\\u002fYzL1R\\u002fVoZT+OlkJVJJmSPxsHqUOKo4Q\\u002faKc+FP78YT8jzeGcG0KiP\\u002frMWD49A1I\\u002fElk83p+rqD8AFDmSHwh9P36BmsBn7CA\\u002fU+Q74cAhnz8L9FPWHRFQPximsf6CpqA\\u002fd+o\\u002fvcpVTz\\u002fLvLyjzhk+P17Kvemzh4A\\u002fN44bnYSleD8T2W2WTWdhP1IdVU8kekg\\u002fVx0bfRicTj8QKlLx4u1YP72xfBI7ZXM\\u002fLDRhVcYJUj+f4+ARzgx7P2c9kcyE7Wk\\u002fQgUXcrwXNT\\u002fRp4DlXfmXP7hjUf3a2a0\\u002fzPIF7KmBdz8AAAAAAAAAAAtrEsG1R8s\\u002fqvqo7T55iT8=\"},\"colorscale\":[[0.0,\"rgb(12,51,131)\"],[0.25,\"rgb(10,136,186)\"],[0.5,\"rgb(242,211,56)\"],[0.75,\"rgb(242,143,56)\"],[1.0,\"rgb(217,30,30)\"]],\"showscale\":true,\"size\":13,\"sizemode\":\"diameter\",\"sizeref\":1},\"mode\":\"markers\",\"text\":[\"Age\",\"DailyRate\",\"DistanceFromHome\",\"Education\",\"EmployeeCount\",\"EmployeeNumber\",\"EnvironmentSatisfaction\",\"HourlyRate\",\"JobInvolvement\",\"JobLevel\",\"JobSatisfaction\",\"MonthlyIncome\",\"MonthlyRate\",\"NumCompaniesWorked\",\"PercentSalaryHike\",\"PerformanceRating\",\"RelationshipSatisfaction\",\"StandardHours\",\"StockOptionLevel\",\"TotalWorkingYears\",\"TrainingTimesLastYear\",\"WorkLifeBalance\",\"YearsAtCompany\",\"YearsInCurrentRole\",\"YearsSinceLastPromotion\",\"YearsWithCurrManager\",\"BusinessTravel_Non-Travel\",\"BusinessTravel_Travel_Frequently\",\"BusinessTravel_Travel_Rarely\",\"Department_Human Resources\",\"Department_Research & Development\",\"Department_Sales\",\"EducationField_Human Resources\",\"EducationField_Life Sciences\",\"EducationField_Marketing\",\"EducationField_Medical\",\"EducationField_Other\",\"EducationField_Technical Degree\",\"Gender_Female\",\"Gender_Male\",\"JobRole_Healthcare Representative\",\"JobRole_Human Resources\",\"JobRole_Laboratory Technician\",\"JobRole_Manager\",\"JobRole_Manufacturing Director\",\"JobRole_Research Director\",\"JobRole_Research Scientist\",\"JobRole_Sales Executive\",\"JobRole_Sales Representative\",\"MaritalStatus_Divorced\",\"MaritalStatus_Married\",\"MaritalStatus_Single\",\"Over18_Y\",\"OverTime_No\",\"OverTime_Yes\"],\"x\":[\"Age\",\"DailyRate\",\"DistanceFromHome\",\"Education\",\"EmployeeCount\",\"EmployeeNumber\",\"EnvironmentSatisfaction\",\"HourlyRate\",\"JobInvolvement\",\"JobLevel\",\"JobSatisfaction\",\"MonthlyIncome\",\"MonthlyRate\",\"NumCompaniesWorked\",\"PercentSalaryHike\",\"PerformanceRating\",\"RelationshipSatisfaction\",\"StandardHours\",\"StockOptionLevel\",\"TotalWorkingYears\",\"TrainingTimesLastYear\",\"WorkLifeBalance\",\"YearsAtCompany\",\"YearsInCurrentRole\",\"YearsSinceLastPromotion\",\"YearsWithCurrManager\",\"BusinessTravel_Non-Travel\",\"BusinessTravel_Travel_Frequently\",\"BusinessTravel_Travel_Rarely\",\"Department_Human Resources\",\"Department_Research & Development\",\"Department_Sales\",\"EducationField_Human Resources\",\"EducationField_Life Sciences\",\"EducationField_Marketing\",\"EducationField_Medical\",\"EducationField_Other\",\"EducationField_Technical Degree\",\"Gender_Female\",\"Gender_Male\",\"JobRole_Healthcare Representative\",\"JobRole_Human Resources\",\"JobRole_Laboratory Technician\",\"JobRole_Manager\",\"JobRole_Manufacturing Director\",\"JobRole_Research Director\",\"JobRole_Research Scientist\",\"JobRole_Sales Executive\",\"JobRole_Sales Representative\",\"MaritalStatus_Divorced\",\"MaritalStatus_Married\",\"MaritalStatus_Single\",\"Over18_Y\",\"OverTime_No\",\"OverTime_Yes\"],\"y\":{\"dtype\":\"f8\",\"bdata\":\"J4ApDiLYlj+q7x2AglFzP63jS5aNZ3s\\u002f9RQJaO3Qiz8AAAAAAAAAABkCQenqbnI\\u002fjJ\\u002ffXQwZlj9LRkSwTydxPzgKpq6lP6E\\u002fSMQZ0Wfooz+tlknhIKuuP+CzBsf8Z6Q\\u002f8h7dAMHVcz\\u002fcpNJA86ljP24K4xNxsWs\\u002foM\\u002fQ0FuQYj+gn4r0jVyLPwAAAAAAAAAA2s2wuYmQtj+dSYwLeCSePzPzLL0QQoQ\\u002f12K\\u002fDqaHjj82Crt0gbOUP\\u002foNmzE26ZY\\u002fYzL1R\\u002fVoZT+OlkJVJJmSPxsHqUOKo4Q\\u002faKc+FP78YT8jzeGcG0KiP\\u002frMWD49A1I\\u002fElk83p+rqD8AFDmSHwh9P36BmsBn7CA\\u002fU+Q74cAhnz8L9FPWHRFQPximsf6CpqA\\u002fd+o\\u002fvcpVTz\\u002fLvLyjzhk+P17Kvemzh4A\\u002fN44bnYSleD8T2W2WTWdhP1IdVU8kekg\\u002fVx0bfRicTj8QKlLx4u1YP72xfBI7ZXM\\u002fLDRhVcYJUj+f4+ARzgx7P2c9kcyE7Wk\\u002fQgUXcrwXNT\\u002fRp4DlXfmXP7hjUf3a2a0\\u002fzPIF7KmBdz8AAAAAAAAAAAtrEsG1R8s\\u002fqvqo7T55iT8=\"},\"type\":\"scatter\"}],                        {\"autosize\":true,\"hovermode\":\"closest\",\"showlegend\":false,\"template\":{\"data\":{\"barpolar\":[{\"marker\":{\"line\":{\"color\":\"#E5ECF6\",\"width\":0.5},\"pattern\":{\"fillmode\":\"overlay\",\"size\":10,\"solidity\":0.2}},\"type\":\"barpolar\"}],\"bar\":[{\"error_x\":{\"color\":\"#2a3f5f\"},\"error_y\":{\"color\":\"#2a3f5f\"},\"marker\":{\"line\":{\"color\":\"#E5ECF6\",\"width\":0.5},\"pattern\":{\"fillmode\":\"overlay\",\"size\":10,\"solidity\":0.2}},\"type\":\"bar\"}],\"carpet\":[{\"aaxis\":{\"endlinecolor\":\"#2a3f5f\",\"gridcolor\":\"white\",\"linecolor\":\"white\",\"minorgridcolor\":\"white\",\"startlinecolor\":\"#2a3f5f\"},\"baxis\":{\"endlinecolor\":\"#2a3f5f\",\"gridcolor\":\"white\",\"linecolor\":\"white\",\"minorgridcolor\":\"white\",\"startlinecolor\":\"#2a3f5f\"},\"type\":\"carpet\"}],\"choropleth\":[{\"colorbar\":{\"outlinewidth\":0,\"ticks\":\"\"},\"type\":\"choropleth\"}],\"contourcarpet\":[{\"colorbar\":{\"outlinewidth\":0,\"ticks\":\"\"},\"type\":\"contourcarpet\"}],\"contour\":[{\"colorbar\":{\"outlinewidth\":0,\"ticks\":\"\"},\"colorscale\":[[0.0,\"#0d0887\"],[0.1111111111111111,\"#46039f\"],[0.2222222222222222,\"#7201a8\"],[0.3333333333333333,\"#9c179e\"],[0.4444444444444444,\"#bd3786\"],[0.5555555555555556,\"#d8576b\"],[0.6666666666666666,\"#ed7953\"],[0.7777777777777778,\"#fb9f3a\"],[0.8888888888888888,\"#fdca26\"],[1.0,\"#f0f921\"]],\"type\":\"contour\"}],\"heatmap\":[{\"colorbar\":{\"outlinewidth\":0,\"ticks\":\"\"},\"colorscale\":[[0.0,\"#0d0887\"],[0.1111111111111111,\"#46039f\"],[0.2222222222222222,\"#7201a8\"],[0.3333333333333333,\"#9c179e\"],[0.4444444444444444,\"#bd3786\"],[0.5555555555555556,\"#d8576b\"],[0.6666666666666666,\"#ed7953\"],[0.7777777777777778,\"#fb9f3a\"],[0.8888888888888888,\"#fdca26\"],[1.0,\"#f0f921\"]],\"type\":\"heatmap\"}],\"histogram2dcontour\":[{\"colorbar\":{\"outlinewidth\":0,\"ticks\":\"\"},\"colorscale\":[[0.0,\"#0d0887\"],[0.1111111111111111,\"#46039f\"],[0.2222222222222222,\"#7201a8\"],[0.3333333333333333,\"#9c179e\"],[0.4444444444444444,\"#bd3786\"],[0.5555555555555556,\"#d8576b\"],[0.6666666666666666,\"#ed7953\"],[0.7777777777777778,\"#fb9f3a\"],[0.8888888888888888,\"#fdca26\"],[1.0,\"#f0f921\"]],\"type\":\"histogram2dcontour\"}],\"histogram2d\":[{\"colorbar\":{\"outlinewidth\":0,\"ticks\":\"\"},\"colorscale\":[[0.0,\"#0d0887\"],[0.1111111111111111,\"#46039f\"],[0.2222222222222222,\"#7201a8\"],[0.3333333333333333,\"#9c179e\"],[0.4444444444444444,\"#bd3786\"],[0.5555555555555556,\"#d8576b\"],[0.6666666666666666,\"#ed7953\"],[0.7777777777777778,\"#fb9f3a\"],[0.8888888888888888,\"#fdca26\"],[1.0,\"#f0f921\"]],\"type\":\"histogram2d\"}],\"histogram\":[{\"marker\":{\"pattern\":{\"fillmode\":\"overlay\",\"size\":10,\"solidity\":0.2}},\"type\":\"histogram\"}],\"mesh3d\":[{\"colorbar\":{\"outlinewidth\":0,\"ticks\":\"\"},\"type\":\"mesh3d\"}],\"parcoords\":[{\"line\":{\"colorbar\":{\"outlinewidth\":0,\"ticks\":\"\"}},\"type\":\"parcoords\"}],\"pie\":[{\"automargin\":true,\"type\":\"pie\"}],\"scatter3d\":[{\"line\":{\"colorbar\":{\"outlinewidth\":0,\"ticks\":\"\"}},\"marker\":{\"colorbar\":{\"outlinewidth\":0,\"ticks\":\"\"}},\"type\":\"scatter3d\"}],\"scattercarpet\":[{\"marker\":{\"colorbar\":{\"outlinewidth\":0,\"ticks\":\"\"}},\"type\":\"scattercarpet\"}],\"scattergeo\":[{\"marker\":{\"colorbar\":{\"outlinewidth\":0,\"ticks\":\"\"}},\"type\":\"scattergeo\"}],\"scattergl\":[{\"marker\":{\"colorbar\":{\"outlinewidth\":0,\"ticks\":\"\"}},\"type\":\"scattergl\"}],\"scattermapbox\":[{\"marker\":{\"colorbar\":{\"outlinewidth\":0,\"ticks\":\"\"}},\"type\":\"scattermapbox\"}],\"scattermap\":[{\"marker\":{\"colorbar\":{\"outlinewidth\":0,\"ticks\":\"\"}},\"type\":\"scattermap\"}],\"scatterpolargl\":[{\"marker\":{\"colorbar\":{\"outlinewidth\":0,\"ticks\":\"\"}},\"type\":\"scatterpolargl\"}],\"scatterpolar\":[{\"marker\":{\"colorbar\":{\"outlinewidth\":0,\"ticks\":\"\"}},\"type\":\"scatterpolar\"}],\"scatter\":[{\"fillpattern\":{\"fillmode\":\"overlay\",\"size\":10,\"solidity\":0.2},\"type\":\"scatter\"}],\"scatterternary\":[{\"marker\":{\"colorbar\":{\"outlinewidth\":0,\"ticks\":\"\"}},\"type\":\"scatterternary\"}],\"surface\":[{\"colorbar\":{\"outlinewidth\":0,\"ticks\":\"\"},\"colorscale\":[[0.0,\"#0d0887\"],[0.1111111111111111,\"#46039f\"],[0.2222222222222222,\"#7201a8\"],[0.3333333333333333,\"#9c179e\"],[0.4444444444444444,\"#bd3786\"],[0.5555555555555556,\"#d8576b\"],[0.6666666666666666,\"#ed7953\"],[0.7777777777777778,\"#fb9f3a\"],[0.8888888888888888,\"#fdca26\"],[1.0,\"#f0f921\"]],\"type\":\"surface\"}],\"table\":[{\"cells\":{\"fill\":{\"color\":\"#EBF0F8\"},\"line\":{\"color\":\"white\"}},\"header\":{\"fill\":{\"color\":\"#C8D4E3\"},\"line\":{\"color\":\"white\"}},\"type\":\"table\"}]},\"layout\":{\"annotationdefaults\":{\"arrowcolor\":\"#2a3f5f\",\"arrowhead\":0,\"arrowwidth\":1},\"autotypenumbers\":\"strict\",\"coloraxis\":{\"colorbar\":{\"outlinewidth\":0,\"ticks\":\"\"}},\"colorscale\":{\"diverging\":[[0,\"#8e0152\"],[0.1,\"#c51b7d\"],[0.2,\"#de77ae\"],[0.3,\"#f1b6da\"],[0.4,\"#fde0ef\"],[0.5,\"#f7f7f7\"],[0.6,\"#e6f5d0\"],[0.7,\"#b8e186\"],[0.8,\"#7fbc41\"],[0.9,\"#4d9221\"],[1,\"#276419\"]],\"sequential\":[[0.0,\"#0d0887\"],[0.1111111111111111,\"#46039f\"],[0.2222222222222222,\"#7201a8\"],[0.3333333333333333,\"#9c179e\"],[0.4444444444444444,\"#bd3786\"],[0.5555555555555556,\"#d8576b\"],[0.6666666666666666,\"#ed7953\"],[0.7777777777777778,\"#fb9f3a\"],[0.8888888888888888,\"#fdca26\"],[1.0,\"#f0f921\"]],\"sequentialminus\":[[0.0,\"#0d0887\"],[0.1111111111111111,\"#46039f\"],[0.2222222222222222,\"#7201a8\"],[0.3333333333333333,\"#9c179e\"],[0.4444444444444444,\"#bd3786\"],[0.5555555555555556,\"#d8576b\"],[0.6666666666666666,\"#ed7953\"],[0.7777777777777778,\"#fb9f3a\"],[0.8888888888888888,\"#fdca26\"],[1.0,\"#f0f921\"]]},\"colorway\":[\"#636efa\",\"#EF553B\",\"#00cc96\",\"#ab63fa\",\"#FFA15A\",\"#19d3f3\",\"#FF6692\",\"#B6E880\",\"#FF97FF\",\"#FECB52\"],\"font\":{\"color\":\"#2a3f5f\"},\"geo\":{\"bgcolor\":\"white\",\"lakecolor\":\"white\",\"landcolor\":\"#E5ECF6\",\"showlakes\":true,\"showland\":true,\"subunitcolor\":\"white\"},\"hoverlabel\":{\"align\":\"left\"},\"hovermode\":\"closest\",\"mapbox\":{\"style\":\"light\"},\"paper_bgcolor\":\"white\",\"plot_bgcolor\":\"#E5ECF6\",\"polar\":{\"angularaxis\":{\"gridcolor\":\"white\",\"linecolor\":\"white\",\"ticks\":\"\"},\"bgcolor\":\"#E5ECF6\",\"radialaxis\":{\"gridcolor\":\"white\",\"linecolor\":\"white\",\"ticks\":\"\"}},\"scene\":{\"xaxis\":{\"backgroundcolor\":\"#E5ECF6\",\"gridcolor\":\"white\",\"gridwidth\":2,\"linecolor\":\"white\",\"showbackground\":true,\"ticks\":\"\",\"zerolinecolor\":\"white\"},\"yaxis\":{\"backgroundcolor\":\"#E5ECF6\",\"gridcolor\":\"white\",\"gridwidth\":2,\"linecolor\":\"white\",\"showbackground\":true,\"ticks\":\"\",\"zerolinecolor\":\"white\"},\"zaxis\":{\"backgroundcolor\":\"#E5ECF6\",\"gridcolor\":\"white\",\"gridwidth\":2,\"linecolor\":\"white\",\"showbackground\":true,\"ticks\":\"\",\"zerolinecolor\":\"white\"}},\"shapedefaults\":{\"line\":{\"color\":\"#2a3f5f\"}},\"ternary\":{\"aaxis\":{\"gridcolor\":\"white\",\"linecolor\":\"white\",\"ticks\":\"\"},\"baxis\":{\"gridcolor\":\"white\",\"linecolor\":\"white\",\"ticks\":\"\"},\"bgcolor\":\"#E5ECF6\",\"caxis\":{\"gridcolor\":\"white\",\"linecolor\":\"white\",\"ticks\":\"\"}},\"title\":{\"x\":0.05},\"xaxis\":{\"automargin\":true,\"gridcolor\":\"white\",\"linecolor\":\"white\",\"ticks\":\"\",\"title\":{\"standoff\":15},\"zerolinecolor\":\"white\",\"zerolinewidth\":2},\"yaxis\":{\"automargin\":true,\"gridcolor\":\"white\",\"linecolor\":\"white\",\"ticks\":\"\",\"title\":{\"standoff\":15},\"zerolinecolor\":\"white\",\"zerolinewidth\":2}}},\"title\":{\"text\":\"Random Forest Feature Importance\"},\"xaxis\":{\"showgrid\":false,\"showline\":false,\"ticklen\":5,\"zeroline\":false},\"yaxis\":{\"gridwidth\":2,\"showgrid\":false,\"ticklen\":5,\"title\":{\"text\":\"Feature Importance\"},\"zeroline\":false}},                        {\"responsive\": true}                    ).then(function(){\n",
       "                            \n",
       "var gd = document.getElementById('f87b013a-0f74-4ea5-ae3c-d0dd8ca7b4ec');\n",
       "var x = new MutationObserver(function (mutations, observer) {{\n",
       "        var display = window.getComputedStyle(gd).display;\n",
       "        if (!display || display === 'none') {{\n",
       "            console.log([gd, 'removed!']);\n",
       "            Plotly.purge(gd);\n",
       "            observer.disconnect();\n",
       "        }}\n",
       "}});\n",
       "\n",
       "// Listen for the removal of the full notebook cells\n",
       "var notebookContainer = gd.closest('#notebook-container');\n",
       "if (notebookContainer) {{\n",
       "    x.observe(notebookContainer, {childList: true});\n",
       "}}\n",
       "\n",
       "// Listen for the clearing of the current output cell\n",
       "var outputEl = gd.closest('.output');\n",
       "if (outputEl) {{\n",
       "    x.observe(outputEl, {childList: true});\n",
       "}}\n",
       "\n",
       "                        })                };            </script>        </div>"
      ]
     },
     "metadata": {},
     "output_type": "display_data"
    }
   ],
   "source": [
    "import plotly.graph_objs as go\n",
    "import plotly.offline as py\n",
    "py.init_notebook_mode(connected=True)  # Only needed in notebooks\n",
    "\n",
    "# Create scatter plot for feature importances\n",
    "trace = go.Scatter(\n",
    "    y=rf.feature_importances_,\n",
    "    x=attrition_final.columns.values,\n",
    "    mode='markers',\n",
    "    marker=dict(\n",
    "        sizemode='diameter',\n",
    "        sizeref=1,\n",
    "        size=13,\n",
    "        color=rf.feature_importances_,\n",
    "        colorscale='Portland',\n",
    "        showscale=True\n",
    "    ),\n",
    "    text=attrition_final.columns.values\n",
    ")\n",
    "\n",
    "data = [trace]\n",
    "\n",
    "layout = go.Layout(\n",
    "    autosize=True,\n",
    "    title='Random Forest Feature Importance',\n",
    "    hovermode='closest',\n",
    "    xaxis=dict(\n",
    "        ticklen=5,\n",
    "        showgrid=False,\n",
    "        zeroline=False,\n",
    "        showline=False\n",
    "    ),\n",
    "    yaxis=dict(\n",
    "        title='Feature Importance',\n",
    "        showgrid=False,\n",
    "        zeroline=False,\n",
    "        ticklen=5,\n",
    "        gridwidth=2\n",
    "    ),\n",
    "    showlegend=False\n",
    ")\n",
    "\n",
    "fig = go.Figure(data=data, layout=layout)\n",
    "py.iplot(fig, filename='rf-feature-importance')\n"
   ]
  },
  {
   "cell_type": "code",
   "execution_count": null,
   "id": "26ac757c-c4cc-43a0-bfe9-344fe8c4c648",
   "metadata": {},
   "outputs": [],
   "source": []
  }
 ],
 "metadata": {
  "kernelspec": {
   "display_name": "Python 3 (ipykernel)",
   "language": "python",
   "name": "python3"
  },
  "language_info": {
   "codemirror_mode": {
    "name": "ipython",
    "version": 3
   },
   "file_extension": ".py",
   "mimetype": "text/x-python",
   "name": "python",
   "nbconvert_exporter": "python",
   "pygments_lexer": "ipython3",
   "version": "3.12.6"
  }
 },
 "nbformat": 4,
 "nbformat_minor": 5
}
